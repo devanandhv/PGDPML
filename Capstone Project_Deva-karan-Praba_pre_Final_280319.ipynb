{
 "cells": [
  {
   "cell_type": "markdown",
   "metadata": {},
   "source": [
    "# Capstone Project\n",
    "\n",
    "## PGDP - ML : 18/19 batch\n",
    "\n",
    "### Members\n",
    "\n",
    "Mr. Karan Mitra\n",
    "Mr. Prabhakaran\n",
    "Mr. Devanandh\n",
    "\n",
    "### Mentor\n",
    "\n",
    "Ms. Sulekha Aloorravi\n",
    "\n",
    "## Problem Definition\n",
    "\n",
    "A house value is simply more than location and square footage. Like the features that make up a person, an educated party would want to know all aspects that give a house its value. For example, you want to sell a house and you don’t know the price which you can take — it can’t be too low or too high. To find house price you usually try to find similar properties in your neighbourhood and based on gathered data you will try to assess your house price. \n",
    "\n",
    "### Objective \n",
    "\n",
    "Take advantage of all of the feature variables available below, use it to analyse and predict house prices. \n",
    "\n",
    "1.\tcid: a notation for a house\n",
    "2.\tdayhours: Date house was sold\n",
    "3.\troom_bed: Number of Bedrooms/House\n",
    "4.\troom_bath: Number of bathrooms/bedrooms\n",
    "5.\tliving_measure: square footage of the home\n",
    "6.\tlot_measure: quare footage of the lot\n",
    "7.\tceil: Total floors (levels) in house\n",
    "8.\tcoast: House which has a view to a waterfront\n",
    "9.\tsight: Has been viewed\n",
    "10.\tcondition: How good the condition is (Overall)\n",
    "11.\tquality: grade given to the housing unit, based on grading system\n",
    "12.\tceil_measure: square footage of house apart from basement\n",
    "13.\tbasement_measure: square footage of the basement\n",
    "14.\tyr_built: Built Year\n",
    "15.\tyr_renovated: Year when house was renovated\n",
    "16.\tzipcode: zip\n",
    "17.\tlat: Latitude coordinate\n",
    "18.\tlong: Longitude coordinate\n",
    "19.\tliving_measure15: Living room area in 2015(implies-- some renovations) This might or might not have affected the lotsize area\n",
    "20.\tlot_measure15: lotSize area in 2015(implies-- some renovations)\n",
    "21.\tfurnished: Based on the quality of room\n",
    "\n",
    "22: total_area: Measure of both living and lot\n",
    "\n",
    "### Target Variable\n",
    "\n",
    "price: Price is prediction target\n"
   ]
  },
  {
   "cell_type": "code",
   "execution_count": null,
   "metadata": {
    "ExecuteTime": {
     "end_time": "2019-03-28T15:27:27.450856Z",
     "start_time": "2019-03-28T15:27:27.409745Z"
    },
    "code_folding": []
   },
   "outputs": [],
   "source": [
    "#Basic libraries import\n",
    "\n",
    "%matplotlib inline\n",
    "import seaborn as sns\n",
    "import matplotlib.pyplot as plt\n",
    "import numpy as np\n",
    "import pandas as pd\n",
    "import plotly.plotly as py\n",
    "import plotly.graph_objs as go\n",
    "%matplotlib inline\n",
    "import plotly\n",
    "from plotly import __version__\n",
    "from plotly.offline import download_plotlyjs, init_notebook_mode, plot, iplot\n",
    "\n",
    "\n",
    "\n",
    "from sklearn.ensemble import RandomForestClassifier\n",
    "\n",
    "\n",
    "%matplotlib inline\n",
    "\n",
    "\n",
    "print (__version__) # requires version >= 1.9.0\n",
    "init_notebook_mode(connected=True)\n",
    "\n",
    "import warnings\n",
    "warnings.filterwarnings(\"ignore\")"
   ]
  },
  {
   "cell_type": "code",
   "execution_count": null,
   "metadata": {
    "ExecuteTime": {
     "end_time": "2019-03-28T15:27:27.803794Z",
     "start_time": "2019-03-28T15:27:27.454865Z"
    },
    "code_folding": [
     0
    ]
   },
   "outputs": [],
   "source": [
    "# Importing dataset\n",
    "\n",
    "house_df = pd.read_csv('innercity.csv')"
   ]
  },
  {
   "cell_type": "markdown",
   "metadata": {},
   "source": [
    "# EDA and Pre-processing (Feature Engineering and Selection)"
   ]
  },
  {
   "cell_type": "code",
   "execution_count": null,
   "metadata": {
    "ExecuteTime": {
     "end_time": "2019-03-28T15:27:27.993296Z",
     "start_time": "2019-03-28T15:27:27.807807Z"
    },
    "code_folding": [
     0
    ],
    "scrolled": true
   },
   "outputs": [],
   "source": [
    "# Viewing first 10 entries in the dataframe\n",
    "house_df.head(10)"
   ]
  },
  {
   "cell_type": "code",
   "execution_count": null,
   "metadata": {
    "ExecuteTime": {
     "end_time": "2019-03-28T15:27:28.158736Z",
     "start_time": "2019-03-28T15:27:27.997307Z"
    },
    "code_folding": [],
    "scrolled": true
   },
   "outputs": [],
   "source": [
    "# analyzing the size of the dataframe and the variable datatypes\n",
    "house_df.info()\n",
    "df_size=house_df.shape"
   ]
  },
  {
   "cell_type": "markdown",
   "metadata": {},
   "source": [
    "There are a total of 21613 data points. \n",
    "\n",
    "The input variables are all either integer or float datatype. \n",
    "\n",
    "The target variable(price) is of the datatype integer. \n",
    "\n",
    "Hence, we would look into regression based models to evaluate the integer target varible.\n",
    "\n",
    "The \"dayhours\" column is of object type. Let's eyeball the data.\n",
    "\n"
   ]
  },
  {
   "cell_type": "code",
   "execution_count": null,
   "metadata": {
    "ExecuteTime": {
     "end_time": "2019-03-28T15:27:28.172773Z",
     "start_time": "2019-03-28T15:27:28.162747Z"
    },
    "code_folding": [
     0
    ]
   },
   "outputs": [],
   "source": [
    "# Eyeballing dayhours column\n",
    "house_df['dayhours'].head(5)"
   ]
  },
  {
   "cell_type": "markdown",
   "metadata": {},
   "source": [
    "The first 4digits quanitfy the year, the next 2 digits the month and the next 2 digits the date and the last 7 digits probably the time stamp. Hence, splitting this variable into respective variable groups"
   ]
  },
  {
   "cell_type": "markdown",
   "metadata": {},
   "source": [
    "## 'Dayhours' data manipulation"
   ]
  },
  {
   "cell_type": "code",
   "execution_count": null,
   "metadata": {
    "ExecuteTime": {
     "end_time": "2019-03-28T15:27:28.262010Z",
     "start_time": "2019-03-28T15:27:28.177787Z"
    },
    "code_folding": [
     0
    ]
   },
   "outputs": [],
   "source": [
    "# copying the source dataframe onto a new dataframe for manipulation\n",
    "house_df_new=house_df.copy()"
   ]
  },
  {
   "cell_type": "code",
   "execution_count": null,
   "metadata": {
    "ExecuteTime": {
     "end_time": "2019-03-28T15:27:28.362278Z",
     "start_time": "2019-03-28T15:27:28.266022Z"
    },
    "code_folding": [
     0
    ]
   },
   "outputs": [],
   "source": [
    "# creating a new column to mimic the timeframe\n",
    "house_df_new['sold_date_full']=house_df_new['dayhours'].str[:8].astype('int64')"
   ]
  },
  {
   "cell_type": "code",
   "execution_count": null,
   "metadata": {
    "ExecuteTime": {
     "end_time": "2019-03-28T15:27:29.740282Z",
     "start_time": "2019-03-28T15:27:28.367290Z"
    },
    "code_folding": [
     0
    ]
   },
   "outputs": [],
   "source": [
    "# Sold date versus price - Pairplot visualization\n",
    "sns.pairplot(house_df_new,x_vars='sold_date_full',y_vars='price')"
   ]
  },
  {
   "cell_type": "markdown",
   "metadata": {},
   "source": [
    "There are clusters forming up in the time series. Hence, let's split them up into indivdual features - date, month and year"
   ]
  },
  {
   "cell_type": "code",
   "execution_count": null,
   "metadata": {
    "ExecuteTime": {
     "end_time": "2019-03-28T15:27:29.787441Z",
     "start_time": "2019-03-28T15:27:29.744292Z"
    },
    "code_folding": [
     0
    ]
   },
   "outputs": [],
   "source": [
    "# Creating separate features for sold date,month and year\n",
    "house_df_new['sold_year']=house_df_new['dayhours'].str[:4].astype('int64')\n",
    "house_df_new['sold_month']=house_df_new['dayhours'].str[4:6].astype('int64')\n",
    "house_df_new['sold_date']=house_df_new['dayhours'].str[6:8].astype('int64')"
   ]
  },
  {
   "cell_type": "code",
   "execution_count": null,
   "metadata": {
    "ExecuteTime": {
     "end_time": "2019-03-28T15:27:29.870629Z",
     "start_time": "2019-03-28T15:27:29.790414Z"
    },
    "code_folding": [
     0
    ]
   },
   "outputs": [],
   "source": [
    "# Evaluating feature - sold_year\n",
    "house_df_new['sold_year'].head(5)"
   ]
  },
  {
   "cell_type": "code",
   "execution_count": null,
   "metadata": {
    "ExecuteTime": {
     "end_time": "2019-03-28T15:27:29.968889Z",
     "start_time": "2019-03-28T15:27:29.874639Z"
    },
    "code_folding": [
     0
    ]
   },
   "outputs": [],
   "source": [
    "# evaluating feature - sold_month\n",
    "house_df_new['sold_month'].head(5)"
   ]
  },
  {
   "cell_type": "code",
   "execution_count": null,
   "metadata": {
    "ExecuteTime": {
     "end_time": "2019-03-28T15:27:30.060160Z",
     "start_time": "2019-03-28T15:27:29.972900Z"
    },
    "code_folding": [
     0
    ]
   },
   "outputs": [],
   "source": [
    "# evaluating feature- sold_date\n",
    "house_df_new['sold_date'].head(5)"
   ]
  },
  {
   "cell_type": "code",
   "execution_count": null,
   "metadata": {
    "ExecuteTime": {
     "end_time": "2019-03-28T15:27:30.166421Z",
     "start_time": "2019-03-28T15:27:30.064142Z"
    },
    "code_folding": [
     0
    ]
   },
   "outputs": [],
   "source": [
    "# having split the dayhours data, dropping the dayhours column from the dataframe\n",
    "\n",
    "house_df_new=house_df_new.drop('dayhours',axis=1)"
   ]
  },
  {
   "cell_type": "code",
   "execution_count": null,
   "metadata": {
    "ExecuteTime": {
     "end_time": "2019-03-28T15:27:30.309359Z",
     "start_time": "2019-03-28T15:27:30.172429Z"
    },
    "code_folding": [
     0
    ]
   },
   "outputs": [],
   "source": [
    "# looking into the new dataframe after dropping dayhours feature\n",
    "house_df_new.info()"
   ]
  },
  {
   "cell_type": "markdown",
   "metadata": {},
   "source": [
    "# Checking for missing values"
   ]
  },
  {
   "cell_type": "code",
   "execution_count": null,
   "metadata": {
    "ExecuteTime": {
     "end_time": "2019-03-28T15:27:30.407593Z",
     "start_time": "2019-03-28T15:27:30.313342Z"
    },
    "code_folding": [
     0
    ]
   },
   "outputs": [],
   "source": [
    "# Check for NA values and count for each feature\n",
    "house_df_new.isna().sum(axis=0)"
   ]
  },
  {
   "cell_type": "markdown",
   "metadata": {},
   "source": [
    "There are no missing values in the dataset."
   ]
  },
  {
   "cell_type": "markdown",
   "metadata": {},
   "source": [
    "# Deliverable -1 (Exploratory data quality report reflecting the following)\n"
   ]
  },
  {
   "cell_type": "markdown",
   "metadata": {},
   "source": [
    "# 1. Univariate analysis\n",
    "\n",
    "Univariate analysis – data types and description of the independent attributes which should include (name, meaning, range of values observed, central values (mean and median), standard deviation and quartiles, analysis of the body of distributions / tails, missing values, outliers"
   ]
  },
  {
   "cell_type": "code",
   "execution_count": null,
   "metadata": {
    "ExecuteTime": {
     "end_time": "2019-03-28T15:27:30.720424Z",
     "start_time": "2019-03-28T15:27:30.414612Z"
    },
    "code_folding": [
     0
    ]
   },
   "outputs": [],
   "source": [
    "# bird's eye view of the numerical distribution of the dataframe\n",
    "\n",
    "house_df_new.describe().transpose()"
   ]
  },
  {
   "cell_type": "markdown",
   "metadata": {},
   "source": [
    "To get more clarity let's evalaute each variable separately"
   ]
  },
  {
   "cell_type": "markdown",
   "metadata": {},
   "source": [
    "# Univariate Analysis \n",
    "\n",
    "### Check the input variable distribution and outliers \n",
    "\n",
    "# Bivariate Analysis\n",
    "\n",
    "### Incase of outlier presence, evaluate importance through corelation analysis with target price"
   ]
  },
  {
   "cell_type": "markdown",
   "metadata": {},
   "source": [
    "## Variable: CID -> A notation for the house"
   ]
  },
  {
   "cell_type": "code",
   "execution_count": null,
   "metadata": {
    "ExecuteTime": {
     "end_time": "2019-03-28T15:27:31.141332Z",
     "start_time": "2019-03-28T15:27:30.724436Z"
    },
    "code_folding": [
     0
    ]
   },
   "outputs": [],
   "source": [
    "# Verifying the distribution and histogram of the variable\n",
    "\n",
    "sns.distplot(house_df_new['cid'])\n",
    "house_df_new.head(3)"
   ]
  },
  {
   "cell_type": "markdown",
   "metadata": {},
   "source": [
    "### Inference of distribution\n",
    "\n",
    "There are two distinct distribution peaks in the column. Though this variable is used just as an identification variable, the histogram shows there are repeat/duplicate entries"
   ]
  },
  {
   "cell_type": "code",
   "execution_count": null,
   "metadata": {
    "ExecuteTime": {
     "end_time": "2019-03-28T15:27:31.153364Z",
     "start_time": "2019-03-28T15:27:31.145345Z"
    },
    "code_folding": [
     0
    ]
   },
   "outputs": [],
   "source": [
    "# creation of a copy dataframe to evaluate the duplicates\n",
    "\n",
    "house_df_f=house_df_new.copy()\n",
    "\n",
    "# duplicate entry extraction\n",
    "\n",
    "house_df_f['cid_id']=house_df_new['cid'].duplicated()"
   ]
  },
  {
   "cell_type": "code",
   "execution_count": null,
   "metadata": {
    "ExecuteTime": {
     "end_time": "2019-03-28T15:27:31.228566Z",
     "start_time": "2019-03-28T15:27:31.157374Z"
    },
    "code_folding": [
     0
    ]
   },
   "outputs": [],
   "source": [
    "# size of the duplicate dataframe\n",
    "\n",
    "house_df_f.loc[house_df_f['cid_id'] == True].shape"
   ]
  },
  {
   "cell_type": "markdown",
   "metadata": {},
   "source": [
    "There are a total of 177 duplicate entries in the dataframe. Let's look into the nature of the duplicates and check if they are really duplicates"
   ]
  },
  {
   "cell_type": "code",
   "execution_count": null,
   "metadata": {
    "ExecuteTime": {
     "end_time": "2019-03-28T15:27:31.340863Z",
     "start_time": "2019-03-28T15:27:31.235596Z"
    },
    "code_folding": [
     0
    ]
   },
   "outputs": [],
   "source": [
    "# Listing the top 5 duplicate entries\n",
    "\n",
    "house_df_f.loc[house_df_f['cid_id'] == True].sort_values(by='cid').head(5)"
   ]
  },
  {
   "cell_type": "code",
   "execution_count": null,
   "metadata": {
    "ExecuteTime": {
     "end_time": "2019-03-28T15:27:31.429097Z",
     "start_time": "2019-03-28T15:27:31.345878Z"
    },
    "code_folding": [
     0
    ],
    "scrolled": true
   },
   "outputs": [],
   "source": [
    "# returning all instances of the first 5 duplicate entries\n",
    "\n",
    "house_df_f.loc[house_df_f['cid'].isin(['1000102','7200179','109200390','123039336','251300110'])].sort_values(by='cid')"
   ]
  },
  {
   "cell_type": "markdown",
   "metadata": {},
   "source": [
    "### Inference of duplicates:\n",
    "\n",
    "There are certain repeated entries indicating the same property has been bought and resold, since there is no change in the other parameters. Hence, we are retaining them in the dataframe."
   ]
  },
  {
   "cell_type": "code",
   "execution_count": null,
   "metadata": {
    "ExecuteTime": {
     "end_time": "2019-03-28T15:28:02.039862Z",
     "start_time": "2019-03-28T15:27:31.434110Z"
    },
    "code_folding": [],
    "scrolled": true
   },
   "outputs": [],
   "source": [
    "# Plotting boxplot to detect outliers\n",
    "\n",
    "data=[(go.Box(x=house_df_new['cid'],name='House property identifier',showlegend=True))]\n",
    "plotly.offline.iplot(data)\n"
   ]
  },
  {
   "cell_type": "code",
   "execution_count": null,
   "metadata": {
    "ExecuteTime": {
     "end_time": "2019-03-28T15:28:02.248416Z",
     "start_time": "2019-03-28T15:28:02.044875Z"
    }
   },
   "outputs": [],
   "source": [
    "# corelation of cid vs price\n",
    "house_df_new['cid'].corr(house_df_new['price'])"
   ]
  },
  {
   "cell_type": "markdown",
   "metadata": {},
   "source": [
    "### Inference of outliers\n",
    "\n",
    "No outliers present in this variable. \n",
    "\n",
    "Note: This is an identification variable only, also implicated by no corelation with price, hence, this variable can be dropped for regression analysis."
   ]
  },
  {
   "cell_type": "markdown",
   "metadata": {},
   "source": [
    "## Variable room_bed -> No. of bedrooms/home"
   ]
  },
  {
   "cell_type": "code",
   "execution_count": null,
   "metadata": {
    "ExecuteTime": {
     "end_time": "2019-03-28T15:28:02.261451Z",
     "start_time": "2019-03-28T15:28:02.252428Z"
    },
    "code_folding": [
     0
    ]
   },
   "outputs": [],
   "source": [
    "#evaluating the unique entries in the variable list\n",
    "\n",
    "house_df_new['room_bed'].sort_values().unique()"
   ]
  },
  {
   "cell_type": "code",
   "execution_count": null,
   "metadata": {
    "ExecuteTime": {
     "end_time": "2019-03-28T15:28:02.553227Z",
     "start_time": "2019-03-28T15:28:02.266465Z"
    },
    "code_folding": [
     0
    ],
    "scrolled": true
   },
   "outputs": [],
   "source": [
    "# Verifying the distribution of the variable\n",
    "\n",
    "sns.distplot(house_df_new['room_bed'])\n",
    "plt.show()"
   ]
  },
  {
   "cell_type": "markdown",
   "metadata": {},
   "source": [
    "### Inference of distribution\n",
    "\n",
    "The data is right skewed indicating outliers, and also there are distinct peaks indicating clusters present in the dataframe"
   ]
  },
  {
   "cell_type": "code",
   "execution_count": null,
   "metadata": {
    "ExecuteTime": {
     "end_time": "2019-03-28T15:28:02.712650Z",
     "start_time": "2019-03-28T15:28:02.558241Z"
    },
    "code_folding": [
     0
    ]
   },
   "outputs": [],
   "source": [
    "# Plotting boxplot to detect outliers\n",
    "\n",
    "data=[(go.Box(x=house_df_new['room_bed'],name='room_bed',showlegend=True))]\n",
    "plotly.offline.iplot(data)\n"
   ]
  },
  {
   "cell_type": "markdown",
   "metadata": {},
   "source": [
    "### Inference of outliers\n",
    "\n",
    "The no. of rooms vary from 0 to 33. \n",
    "\n",
    "The outliers are present below 2 and above 5 as per the box plot. Outliers treatment is required here."
   ]
  },
  {
   "cell_type": "code",
   "execution_count": null,
   "metadata": {
    "ExecuteTime": {
     "end_time": "2019-03-28T15:28:02.727690Z",
     "start_time": "2019-03-28T15:28:02.717666Z"
    },
    "code_folding": []
   },
   "outputs": [],
   "source": [
    "# Evaluating the outliers in number of bedrooms - Case A \n",
    "\n",
    "# case A\n",
    "\n",
    "room_bed_outlier=house_df_new[(house_df_new.room_bed>5)|(house_df_new.room_bed<2)]\n",
    "room_bed_outlier.shape"
   ]
  },
  {
   "cell_type": "code",
   "execution_count": null,
   "metadata": {
    "ExecuteTime": {
     "end_time": "2019-03-28T15:28:02.838986Z",
     "start_time": "2019-03-28T15:28:02.732706Z"
    }
   },
   "outputs": [],
   "source": [
    "# Case A corelation with price\n",
    "room_bed_outlier['room_bed'].corr(house_df_new['price'])"
   ]
  },
  {
   "cell_type": "markdown",
   "metadata": {},
   "source": [
    "There are 546 entries with no. of bedrooms >5 and <2. It has a very low corelation with price. Let's check the number of entries with no. of bedrooms >5 and <1."
   ]
  },
  {
   "cell_type": "code",
   "execution_count": null,
   "metadata": {
    "ExecuteTime": {
     "end_time": "2019-03-28T15:28:02.946271Z",
     "start_time": "2019-03-28T15:28:02.842996Z"
    },
    "code_folding": []
   },
   "outputs": [],
   "source": [
    "# Case B\n",
    "\n",
    "room_bed_outlier_1=house_df_new[(house_df_new.room_bed>5)|(house_df_new.room_bed<1)]\n",
    "room_bed_outlier_1.shape"
   ]
  },
  {
   "cell_type": "code",
   "execution_count": null,
   "metadata": {
    "ExecuteTime": {
     "end_time": "2019-03-28T15:28:03.040522Z",
     "start_time": "2019-03-28T15:28:02.951285Z"
    }
   },
   "outputs": [],
   "source": [
    "# Case B corelation with price\n",
    "room_bed_outlier_1['room_bed'].corr(house_df_new['price'])"
   ]
  },
  {
   "cell_type": "markdown",
   "metadata": {},
   "source": [
    "There are 347 entries with no. of bedrooms >5 and <1. It has no corelation with price. Hence, we can remove them from the analysis dataframe. If more improvement to model accuracy is required, then Case A can be removed."
   ]
  },
  {
   "cell_type": "markdown",
   "metadata": {
    "ExecuteTime": {
     "end_time": "2019-03-02T17:43:19.676214Z",
     "start_time": "2019-03-02T17:43:19.640166Z"
    }
   },
   "source": [
    "## Variable room_bath -> No. of bathrooms/bedroom"
   ]
  },
  {
   "cell_type": "code",
   "execution_count": null,
   "metadata": {
    "ExecuteTime": {
     "end_time": "2019-03-28T15:28:03.193930Z",
     "start_time": "2019-03-28T15:28:03.044533Z"
    },
    "code_folding": [
     0
    ]
   },
   "outputs": [],
   "source": [
    "#evaluating the unique entries in the variable list\n",
    "\n",
    "house_df_new['room_bath'].sort_values().unique()"
   ]
  },
  {
   "cell_type": "code",
   "execution_count": null,
   "metadata": {
    "ExecuteTime": {
     "end_time": "2019-03-28T15:28:03.247070Z",
     "start_time": "2019-03-28T15:28:03.198945Z"
    },
    "code_folding": []
   },
   "outputs": [],
   "source": [
    "# evaluating the number of unique entries\n",
    "house_df_new['room_bath'].sort_values().unique().shape"
   ]
  },
  {
   "cell_type": "markdown",
   "metadata": {},
   "source": [
    "The no. of room_bath vary from 0 to 8 with a total of 30 unique entries and there are decimal values too. "
   ]
  },
  {
   "cell_type": "code",
   "execution_count": null,
   "metadata": {
    "ExecuteTime": {
     "end_time": "2019-03-28T15:28:03.530825Z",
     "start_time": "2019-03-28T15:28:03.252086Z"
    },
    "code_folding": [
     0
    ],
    "scrolled": true
   },
   "outputs": [],
   "source": [
    "# Verifying the distribution of the variable\n",
    "\n",
    "sns.distplot(house_df_new['room_bath'])\n",
    "plt.show()"
   ]
  },
  {
   "cell_type": "markdown",
   "metadata": {},
   "source": [
    "### Inference of distribution\n",
    "\n",
    "The data is right skewed indicating outliers, and also there are distinct peaks indicating clusters present in the dataframe"
   ]
  },
  {
   "cell_type": "code",
   "execution_count": null,
   "metadata": {
    "ExecuteTime": {
     "end_time": "2019-03-28T15:28:03.779487Z",
     "start_time": "2019-03-28T15:28:03.534836Z"
    },
    "code_folding": [
     0
    ],
    "scrolled": true
   },
   "outputs": [],
   "source": [
    "# Plotting boxplot to detect outliers\n",
    "\n",
    "data=[(go.Box(x=house_df_new['room_bath'],name='room_bath',showlegend=True))]\n",
    "plotly.offline.iplot(data)"
   ]
  },
  {
   "cell_type": "markdown",
   "metadata": {},
   "source": [
    "### Inference of suspected outliers\n",
    "\n",
    "The outliers are present below 0.75 and above 3.5 as per the box plot. Outliers treatment is required here."
   ]
  },
  {
   "cell_type": "code",
   "execution_count": null,
   "metadata": {
    "ExecuteTime": {
     "end_time": "2019-03-28T15:28:03.793524Z",
     "start_time": "2019-03-28T15:28:03.783497Z"
    },
    "code_folding": []
   },
   "outputs": [],
   "source": [
    "# creating outlier dataframe\n",
    "room_bath_outlier=house_df_new[(house_df_new.room_bath>3.5)|(house_df_new.room_bath<0.75)]\n",
    "room_bath_outlier.shape"
   ]
  },
  {
   "cell_type": "code",
   "execution_count": null,
   "metadata": {
    "ExecuteTime": {
     "end_time": "2019-03-28T15:28:03.872734Z",
     "start_time": "2019-03-28T15:28:03.796544Z"
    }
   },
   "outputs": [],
   "source": [
    "# corelation of no. of bathrooms/bedrooms with price\n",
    "room_bath_outlier['room_bath'].corr(house_df_new['price'])"
   ]
  },
  {
   "cell_type": "markdown",
   "metadata": {},
   "source": [
    "There are 571 outlier entries and have moderate positive corelation only with price. Hence based on modelling accuracy we can decide if to retain or remove the outliers."
   ]
  },
  {
   "cell_type": "markdown",
   "metadata": {
    "ExecuteTime": {
     "end_time": "2019-03-02T17:43:19.676214Z",
     "start_time": "2019-03-02T17:43:19.640166Z"
    }
   },
   "source": [
    "## Variable living_measure -> square footage of the home"
   ]
  },
  {
   "cell_type": "code",
   "execution_count": null,
   "metadata": {
    "ExecuteTime": {
     "end_time": "2019-03-28T15:28:03.989042Z",
     "start_time": "2019-03-28T15:28:03.875742Z"
    },
    "code_folding": []
   },
   "outputs": [],
   "source": [
    "#evaluating the unique entries in the variable list\n",
    "\n",
    "house_df_new['living_measure'].sort_values().unique()"
   ]
  },
  {
   "cell_type": "code",
   "execution_count": null,
   "metadata": {
    "ExecuteTime": {
     "end_time": "2019-03-28T15:28:04.073267Z",
     "start_time": "2019-03-28T15:28:03.992051Z"
    },
    "code_folding": []
   },
   "outputs": [],
   "source": [
    "# evaluating the number of unique entries\n",
    "house_df_new['living_measure'].sort_values().unique().shape"
   ]
  },
  {
   "cell_type": "markdown",
   "metadata": {},
   "source": [
    "There are 1038 unique entries of living measure"
   ]
  },
  {
   "cell_type": "code",
   "execution_count": null,
   "metadata": {
    "ExecuteTime": {
     "end_time": "2019-03-28T15:28:04.419188Z",
     "start_time": "2019-03-28T15:28:04.076278Z"
    },
    "code_folding": [],
    "scrolled": true
   },
   "outputs": [],
   "source": [
    "# Verifying the distribution of the variable\n",
    "\n",
    "sns.distplot(house_df_new['living_measure'])\n",
    "plt.show()"
   ]
  },
  {
   "cell_type": "markdown",
   "metadata": {},
   "source": [
    "### Inference of distribution\n",
    "\n",
    "The data is normally distributed and it is right skewed indicating outliers."
   ]
  },
  {
   "cell_type": "code",
   "execution_count": null,
   "metadata": {
    "ExecuteTime": {
     "end_time": "2019-03-28T15:28:04.691912Z",
     "start_time": "2019-03-28T15:28:04.425203Z"
    },
    "code_folding": [],
    "scrolled": true
   },
   "outputs": [],
   "source": [
    "# Plotting boxplot to detect outliers\n",
    "\n",
    "data=[(go.Box(x=house_df_new['living_measure'],name='living_measure',showlegend=True))]\n",
    "plotly.offline.iplot(data)"
   ]
  },
  {
   "cell_type": "markdown",
   "metadata": {},
   "source": [
    "### Inference of suspected outliers\n",
    "\n",
    "The outliers are present above 4230 as per the box plot."
   ]
  },
  {
   "cell_type": "code",
   "execution_count": null,
   "metadata": {
    "ExecuteTime": {
     "end_time": "2019-03-28T15:28:04.703942Z",
     "start_time": "2019-03-28T15:28:04.693915Z"
    },
    "code_folding": []
   },
   "outputs": [],
   "source": [
    "# creating outlier dataframe\n",
    "living_measure_outlier=house_df_new[(house_df_new.living_measure>4230)]\n",
    "living_measure_outlier.shape"
   ]
  },
  {
   "cell_type": "code",
   "execution_count": null,
   "metadata": {
    "ExecuteTime": {
     "end_time": "2019-03-28T15:28:04.797191Z",
     "start_time": "2019-03-28T15:28:04.705948Z"
    }
   },
   "outputs": [],
   "source": [
    "# corelation of living measure with price\n",
    "living_measure_outlier['living_measure'].corr(house_df_new['price'])"
   ]
  },
  {
   "cell_type": "markdown",
   "metadata": {},
   "source": [
    "There are 572 outlier entries. Also they have moderate postivie corelation with price. Hence, decision to remove or retain need to be taken based on model accuracy."
   ]
  },
  {
   "cell_type": "markdown",
   "metadata": {
    "ExecuteTime": {
     "end_time": "2019-03-02T17:43:19.676214Z",
     "start_time": "2019-03-02T17:43:19.640166Z"
    }
   },
   "source": [
    "## Variable lot_measure -> square footage of the lot"
   ]
  },
  {
   "cell_type": "code",
   "execution_count": null,
   "metadata": {
    "ExecuteTime": {
     "end_time": "2019-03-28T15:28:04.878407Z",
     "start_time": "2019-03-28T15:28:04.800199Z"
    },
    "code_folding": []
   },
   "outputs": [],
   "source": [
    "#evaluating the unique entries in the variable list\n",
    "\n",
    "house_df_new['lot_measure'].sort_values().unique()"
   ]
  },
  {
   "cell_type": "code",
   "execution_count": null,
   "metadata": {
    "ExecuteTime": {
     "end_time": "2019-03-28T15:28:04.939570Z",
     "start_time": "2019-03-28T15:28:04.884425Z"
    },
    "code_folding": []
   },
   "outputs": [],
   "source": [
    "# evaluating the number of unique entries\n",
    "house_df_new['lot_measure'].sort_values().unique().shape"
   ]
  },
  {
   "cell_type": "markdown",
   "metadata": {},
   "source": [
    "There are 9782 unique entries of lot measure"
   ]
  },
  {
   "cell_type": "code",
   "execution_count": null,
   "metadata": {
    "ExecuteTime": {
     "end_time": "2019-03-28T15:28:05.251398Z",
     "start_time": "2019-03-28T15:28:04.942578Z"
    },
    "code_folding": [],
    "scrolled": true
   },
   "outputs": [],
   "source": [
    "# Verifying the distribution of the variable\n",
    "\n",
    "sns.distplot(house_df_new['lot_measure'])\n",
    "plt.show()"
   ]
  },
  {
   "cell_type": "markdown",
   "metadata": {},
   "source": [
    "### Inference of distribution\n",
    "\n",
    "The data is normally distributed and it is right skewed indicating outliers. The histogram shows an abnormaly high number of instances in the lot measures of smaller size, indicating maximum presence of such properties."
   ]
  },
  {
   "cell_type": "code",
   "execution_count": null,
   "metadata": {
    "ExecuteTime": {
     "end_time": "2019-03-28T15:28:05.435889Z",
     "start_time": "2019-03-28T15:28:05.254406Z"
    },
    "code_folding": [],
    "scrolled": true
   },
   "outputs": [],
   "source": [
    "# Plotting boxplot to detect outliers\n",
    "\n",
    "data=[(go.Box(x=house_df_new['lot_measure'],name='lot_measure',showlegend=True))]\n",
    "plotly.offline.iplot(data)"
   ]
  },
  {
   "cell_type": "markdown",
   "metadata": {},
   "source": [
    "### Inference of suspected outliers\n",
    "\n",
    "The outliers are present above 19141 as per the box plot."
   ]
  },
  {
   "cell_type": "code",
   "execution_count": null,
   "metadata": {
    "ExecuteTime": {
     "end_time": "2019-03-28T15:28:05.447920Z",
     "start_time": "2019-03-28T15:28:05.438898Z"
    },
    "code_folding": []
   },
   "outputs": [],
   "source": [
    "# creating outlier dataframe\n",
    "lot_measure_outlier=house_df_new[(house_df_new.lot_measure>19141)]\n",
    "lot_measure_outlier.shape"
   ]
  },
  {
   "cell_type": "code",
   "execution_count": null,
   "metadata": {
    "ExecuteTime": {
     "end_time": "2019-03-28T15:28:05.531143Z",
     "start_time": "2019-03-28T15:28:05.451931Z"
    }
   },
   "outputs": [],
   "source": [
    "# corelation of lot measure with price\n",
    "lot_measure_outlier['lot_measure'].corr(house_df_new['price'])"
   ]
  },
  {
   "cell_type": "markdown",
   "metadata": {},
   "source": [
    "There are 2425 outlier entries. They have no corelation with price. Hence, they can be removed from the analysis dataframe."
   ]
  },
  {
   "cell_type": "markdown",
   "metadata": {
    "ExecuteTime": {
     "end_time": "2019-03-02T17:43:19.676214Z",
     "start_time": "2019-03-02T17:43:19.640166Z"
    }
   },
   "source": [
    "## Variable ceil -> Total floors in the house"
   ]
  },
  {
   "cell_type": "code",
   "execution_count": null,
   "metadata": {
    "ExecuteTime": {
     "end_time": "2019-03-28T15:28:05.635420Z",
     "start_time": "2019-03-28T15:28:05.534149Z"
    },
    "code_folding": []
   },
   "outputs": [],
   "source": [
    "#evaluating the unique entries in the variable list\n",
    "\n",
    "house_df_new['ceil'].sort_values().unique()"
   ]
  },
  {
   "cell_type": "code",
   "execution_count": null,
   "metadata": {
    "ExecuteTime": {
     "end_time": "2019-03-28T15:28:05.747717Z",
     "start_time": "2019-03-28T15:28:05.638427Z"
    },
    "code_folding": []
   },
   "outputs": [],
   "source": [
    "# evaluating the number of unique entries\n",
    "house_df_new['ceil'].sort_values().unique().shape"
   ]
  },
  {
   "cell_type": "markdown",
   "metadata": {},
   "source": [
    "There are 6 unique entries of total floors in house. There are decimal entries too. "
   ]
  },
  {
   "cell_type": "code",
   "execution_count": null,
   "metadata": {
    "ExecuteTime": {
     "end_time": "2019-03-28T15:28:06.031472Z",
     "start_time": "2019-03-28T15:28:05.750728Z"
    },
    "code_folding": [],
    "scrolled": true
   },
   "outputs": [],
   "source": [
    "# Verifying the distribution of the variable\n",
    "\n",
    "sns.distplot(house_df_new['ceil'])\n",
    "plt.show()"
   ]
  },
  {
   "cell_type": "markdown",
   "metadata": {},
   "source": [
    "### Inference of distribution\n",
    "\n",
    "The data has 4 peaks indicating 4 clusters. Maximum occurance in the histogram is 1 floor followed by 2 floors. The data is right skewed indicating outliers in the higher no.of floors."
   ]
  },
  {
   "cell_type": "code",
   "execution_count": null,
   "metadata": {
    "ExecuteTime": {
     "end_time": "2019-03-28T15:28:06.290159Z",
     "start_time": "2019-03-28T15:28:06.034480Z"
    },
    "code_folding": [],
    "scrolled": true
   },
   "outputs": [],
   "source": [
    "# Plotting boxplot to detect outliers\n",
    "\n",
    "data=[(go.Box(x=house_df_new['ceil'],name='ceil',showlegend=True))]\n",
    "plotly.offline.iplot(data)"
   ]
  },
  {
   "cell_type": "markdown",
   "metadata": {},
   "source": [
    "### Inference of suspected outliers\n",
    "\n",
    "Contrary to the inference of distribution plot, there are no outliers in the no. of floors in box plot. Hence, no outlier treatment required."
   ]
  },
  {
   "cell_type": "markdown",
   "metadata": {
    "ExecuteTime": {
     "end_time": "2019-03-02T17:43:19.676214Z",
     "start_time": "2019-03-02T17:43:19.640166Z"
    }
   },
   "source": [
    "## Variable coast -> If the property is near a waterbody"
   ]
  },
  {
   "cell_type": "code",
   "execution_count": null,
   "metadata": {
    "ExecuteTime": {
     "end_time": "2019-03-28T15:28:06.304197Z",
     "start_time": "2019-03-28T15:28:06.295172Z"
    },
    "code_folding": []
   },
   "outputs": [],
   "source": [
    "#evaluating the unique entries in the variable list\n",
    "\n",
    "house_df_new['coast'].sort_values().unique()"
   ]
  },
  {
   "cell_type": "code",
   "execution_count": null,
   "metadata": {
    "ExecuteTime": {
     "end_time": "2019-03-28T15:28:06.480665Z",
     "start_time": "2019-03-28T15:28:06.306204Z"
    },
    "code_folding": []
   },
   "outputs": [],
   "source": [
    "# evaluating the number of unique entries\n",
    "house_df_new['coast'].sort_values().unique().shape"
   ]
  },
  {
   "cell_type": "markdown",
   "metadata": {},
   "source": [
    "This variable is of categorical type indicating if the property is facing a waterbody or not."
   ]
  },
  {
   "cell_type": "code",
   "execution_count": null,
   "metadata": {
    "ExecuteTime": {
     "end_time": "2019-03-28T15:28:06.757402Z",
     "start_time": "2019-03-28T15:28:06.483677Z"
    },
    "code_folding": [],
    "scrolled": true
   },
   "outputs": [],
   "source": [
    "# Verifying the distribution of the variable\n",
    "\n",
    "sns.distplot(house_df_new['coast'])\n",
    "plt.show()"
   ]
  },
  {
   "cell_type": "markdown",
   "metadata": {},
   "source": [
    "### Inference of distribution\n",
    "\n",
    "The data is extremely right skewed. The histogram shows an abnormaly high number of instances of the properties without facing a waterbody."
   ]
  },
  {
   "cell_type": "code",
   "execution_count": null,
   "metadata": {
    "ExecuteTime": {
     "end_time": "2019-03-28T15:28:06.772443Z",
     "start_time": "2019-03-28T15:28:06.760410Z"
    },
    "code_folding": []
   },
   "outputs": [],
   "source": [
    "# Number of houses not facing waterbody\n",
    "coast_no=house_df_new[house_df_new.coast==0].shape\n",
    "coast_no[0]"
   ]
  },
  {
   "cell_type": "code",
   "execution_count": null,
   "metadata": {
    "ExecuteTime": {
     "end_time": "2019-03-28T15:28:06.870702Z",
     "start_time": "2019-03-28T15:28:06.775449Z"
    },
    "code_folding": []
   },
   "outputs": [],
   "source": [
    "# Number of houses facing waterbody\n",
    "coast_yes=house_df_new[house_df_new.coast==1].shape\n",
    "coast_yes[0]"
   ]
  },
  {
   "cell_type": "code",
   "execution_count": null,
   "metadata": {
    "ExecuteTime": {
     "end_time": "2019-03-28T15:28:06.978991Z",
     "start_time": "2019-03-28T15:28:06.873712Z"
    },
    "code_folding": []
   },
   "outputs": [],
   "source": [
    "# Percentage of houses facing waterbody\n",
    "print ('%3.2f'%(coast_yes[0]/df_size[0]*100),'%')"
   ]
  },
  {
   "cell_type": "markdown",
   "metadata": {},
   "source": [
    "The data shows only 163 houses are facing a waterbody, while the remaining is not. That is only 0.75% of the total houses are facing the waterbody."
   ]
  },
  {
   "cell_type": "code",
   "execution_count": null,
   "metadata": {
    "ExecuteTime": {
     "end_time": "2019-03-28T15:28:07.242691Z",
     "start_time": "2019-03-28T15:28:06.985008Z"
    },
    "code_folding": [
     0
    ],
    "scrolled": true
   },
   "outputs": [],
   "source": [
    "# Plotting boxplot to detect outliers\n",
    "\n",
    "data=[(go.Box(x=house_df_new['furnished'],name='Furnished',showlegend=True))]\n",
    "plotly.offline.iplot(data)"
   ]
  },
  {
   "cell_type": "markdown",
   "metadata": {},
   "source": [
    "### Inference of Suspected outliers\n",
    "\n",
    "As the number of houses facing waterbody are only 0.75% of the total population in the database, they have been marked as outliers. Hence, let's evaluate the impact of facing waterbody against the price."
   ]
  },
  {
   "cell_type": "code",
   "execution_count": null,
   "metadata": {
    "ExecuteTime": {
     "end_time": "2019-03-28T15:28:07.607661Z",
     "start_time": "2019-03-28T15:28:07.244695Z"
    },
    "code_folding": []
   },
   "outputs": [],
   "source": [
    "# Waterbody facing status versus price - Pairplot visualization\n",
    "sns.pairplot(house_df_new,x_vars='coast',y_vars='price')"
   ]
  },
  {
   "cell_type": "code",
   "execution_count": null,
   "metadata": {
    "ExecuteTime": {
     "end_time": "2019-03-28T15:28:07.617688Z",
     "start_time": "2019-03-28T15:28:07.610671Z"
    },
    "code_folding": []
   },
   "outputs": [],
   "source": [
    "# Furnished status versus price - Correlation analysis\n",
    "house_df_new['coast'].corr(house_df_new['price'])"
   ]
  },
  {
   "cell_type": "markdown",
   "metadata": {},
   "source": [
    "The variable furnished has a low corelation with the target price. Also, as the population of this sample is low, we can remove them from analysis."
   ]
  },
  {
   "cell_type": "code",
   "execution_count": null,
   "metadata": {
    "ExecuteTime": {
     "end_time": "2019-03-28T15:28:07.721964Z",
     "start_time": "2019-03-28T15:28:07.620696Z"
    },
    "code_folding": [
     0
    ],
    "scrolled": true
   },
   "outputs": [],
   "source": [
    "# creating outlier dataframe\n",
    "coast_outlier=house_df_new[(house_df_new.coast==1)]\n",
    "coast_outlier.shape"
   ]
  },
  {
   "cell_type": "markdown",
   "metadata": {
    "ExecuteTime": {
     "end_time": "2019-03-02T17:43:19.676214Z",
     "start_time": "2019-03-02T17:43:19.640166Z"
    }
   },
   "source": [
    "## Variable sight -> If the property has been viewed"
   ]
  },
  {
   "cell_type": "code",
   "execution_count": null,
   "metadata": {
    "ExecuteTime": {
     "end_time": "2019-03-28T15:28:07.822258Z",
     "start_time": "2019-03-28T15:28:07.724972Z"
    },
    "code_folding": []
   },
   "outputs": [],
   "source": [
    "#evaluating the unique entries in the variable list\n",
    "\n",
    "house_df_new['sight'].sort_values().unique()"
   ]
  },
  {
   "cell_type": "code",
   "execution_count": null,
   "metadata": {
    "ExecuteTime": {
     "end_time": "2019-03-28T15:28:07.908461Z",
     "start_time": "2019-03-28T15:28:07.825241Z"
    },
    "code_folding": []
   },
   "outputs": [],
   "source": [
    "# evaluating the number of unique entries\n",
    "house_df_new['sight'].sort_values().unique().shape"
   ]
  },
  {
   "cell_type": "markdown",
   "metadata": {},
   "source": [
    "This variable is of categorical type indicating how many times the property has been viewed. 0 indicates the property has not been viewed earlier, while maximum number of views is 4."
   ]
  },
  {
   "cell_type": "code",
   "execution_count": null,
   "metadata": {
    "ExecuteTime": {
     "end_time": "2019-03-28T15:28:08.329579Z",
     "start_time": "2019-03-28T15:28:07.911469Z"
    },
    "code_folding": [],
    "scrolled": true
   },
   "outputs": [],
   "source": [
    "# Verifying the distribution of the variable\n",
    "\n",
    "sns.distplot(house_df_new['sight'])\n",
    "plt.show()"
   ]
  },
  {
   "cell_type": "markdown",
   "metadata": {},
   "source": [
    "### Inference of distribution\n",
    "\n",
    "The data is extremely right skewed. The histogram shows an abnormaly high number of instances of the properties without previous viewings."
   ]
  },
  {
   "cell_type": "code",
   "execution_count": null,
   "metadata": {
    "ExecuteTime": {
     "end_time": "2019-03-28T15:28:08.348634Z",
     "start_time": "2019-03-28T15:28:08.334593Z"
    },
    "code_folding": []
   },
   "outputs": [],
   "source": [
    "# Number of houses not viewed previously : Case C0\n",
    "sight_no=house_df_new[house_df_new.sight==0].shape\n",
    "sight_no[0]"
   ]
  },
  {
   "cell_type": "code",
   "execution_count": null,
   "metadata": {
    "ExecuteTime": {
     "end_time": "2019-03-28T15:28:08.453781Z",
     "start_time": "2019-03-28T15:28:08.353661Z"
    },
    "code_folding": []
   },
   "outputs": [],
   "source": [
    "# Number of houses previously viewed once : Case C1\n",
    "sight_once=house_df_new[house_df_new.sight==1].shape\n",
    "sight_once[0]"
   ]
  },
  {
   "cell_type": "code",
   "execution_count": null,
   "metadata": {
    "ExecuteTime": {
     "end_time": "2019-03-28T15:28:08.533497Z",
     "start_time": "2019-03-28T15:28:08.458296Z"
    },
    "code_folding": []
   },
   "outputs": [],
   "source": [
    "# Number of houses previously viewed twice : Case C2\n",
    "sight_twice=house_df_new[house_df_new.sight==2].shape\n",
    "sight_twice[0]"
   ]
  },
  {
   "cell_type": "code",
   "execution_count": null,
   "metadata": {
    "ExecuteTime": {
     "end_time": "2019-03-28T15:28:08.623736Z",
     "start_time": "2019-03-28T15:28:08.537508Z"
    },
    "code_folding": []
   },
   "outputs": [],
   "source": [
    "# Number of houses previously viewed thrice : Case C3\n",
    "sight_thrice=house_df_new[house_df_new.sight==3].shape\n",
    "sight_thrice[0]"
   ]
  },
  {
   "cell_type": "code",
   "execution_count": null,
   "metadata": {
    "ExecuteTime": {
     "end_time": "2019-03-28T15:28:08.723003Z",
     "start_time": "2019-03-28T15:28:08.626744Z"
    },
    "code_folding": []
   },
   "outputs": [],
   "source": [
    "# Number of houses previously viewed fourtimes : Case C4\n",
    "sight_four=house_df_new[house_df_new.sight==4].shape\n",
    "sight_four[0]"
   ]
  },
  {
   "cell_type": "code",
   "execution_count": null,
   "metadata": {
    "ExecuteTime": {
     "end_time": "2019-03-28T15:28:08.846329Z",
     "start_time": "2019-03-28T15:28:08.726008Z"
    }
   },
   "outputs": [],
   "source": [
    "# No. of houses viewed previously\n",
    "print (sight_once[0]+sight_twice[0]+sight_thrice[0]+sight_four[0])"
   ]
  },
  {
   "cell_type": "code",
   "execution_count": null,
   "metadata": {
    "ExecuteTime": {
     "end_time": "2019-03-28T15:28:08.946594Z",
     "start_time": "2019-03-28T15:28:08.850339Z"
    },
    "code_folding": [],
    "scrolled": true
   },
   "outputs": [],
   "source": [
    "# Percentage of houses viewed previously\n",
    "print ('%3.2f'%((sight_once[0]+sight_twice[0]+sight_thrice[0]+sight_four[0])/df_size[0]*100),'%')"
   ]
  },
  {
   "cell_type": "markdown",
   "metadata": {},
   "source": [
    "The data shows only 2164 houses were viewed previously accounting for 9.83% of the total house population.This is a signifant number. Hence, the impact of pricing needs to be evaulated for decision on outlier treatment."
   ]
  },
  {
   "cell_type": "code",
   "execution_count": null,
   "metadata": {
    "ExecuteTime": {
     "end_time": "2019-03-28T15:28:09.289092Z",
     "start_time": "2019-03-28T15:28:08.949602Z"
    },
    "code_folding": [],
    "scrolled": true
   },
   "outputs": [],
   "source": [
    "# Plotting boxplot to detect outliers\n",
    "\n",
    "data=[(go.Box(x=house_df_new['sight'],name='sight',showlegend=True))]\n",
    "plotly.offline.iplot(data)"
   ]
  },
  {
   "cell_type": "markdown",
   "metadata": {},
   "source": [
    "### Inference of Suspected outliers\n",
    "\n",
    "As the number of houses viewed previously are only 9.83% of the total population in the database, they have been marked as outliers. Hence, let's evaluate the impact of property viewed previously against the price."
   ]
  },
  {
   "cell_type": "code",
   "execution_count": null,
   "metadata": {
    "ExecuteTime": {
     "end_time": "2019-03-28T15:28:09.719235Z",
     "start_time": "2019-03-28T15:28:09.292099Z"
    },
    "code_folding": []
   },
   "outputs": [],
   "source": [
    "# House previously viewed status versus price - Pairplot visualization\n",
    "sns.pairplot(house_df_new,x_vars='sight',y_vars='price')"
   ]
  },
  {
   "cell_type": "code",
   "execution_count": null,
   "metadata": {
    "ExecuteTime": {
     "end_time": "2019-03-28T15:28:09.736280Z",
     "start_time": "2019-03-28T15:28:09.722243Z"
    },
    "code_folding": []
   },
   "outputs": [],
   "source": [
    "# House previously viewed status versus price - Correlation analysis\n",
    "house_df_new['sight'].corr(house_df_new['price'])"
   ]
  },
  {
   "cell_type": "markdown",
   "metadata": {},
   "source": [
    "The variable furnished has a low corelation with the target price. However, the call to remove or retain them can be taken based on modelling accuracy since they the number of entities are of sizeable number"
   ]
  },
  {
   "cell_type": "code",
   "execution_count": null,
   "metadata": {
    "ExecuteTime": {
     "end_time": "2019-03-28T15:28:09.824516Z",
     "start_time": "2019-03-28T15:28:09.739289Z"
    },
    "code_folding": []
   },
   "outputs": [],
   "source": [
    "# creating outlier dataframe\n",
    "sight_outlier=house_df_new[(house_df_new.sight>0)]\n",
    "sight_outlier.shape"
   ]
  },
  {
   "cell_type": "markdown",
   "metadata": {
    "ExecuteTime": {
     "end_time": "2019-03-02T17:43:19.676214Z",
     "start_time": "2019-03-02T17:43:19.640166Z"
    }
   },
   "source": [
    "## Variable condition -> How good the condition is (Overall)"
   ]
  },
  {
   "cell_type": "code",
   "execution_count": null,
   "metadata": {
    "ExecuteTime": {
     "end_time": "2019-03-28T15:28:09.916760Z",
     "start_time": "2019-03-28T15:28:09.827522Z"
    },
    "code_folding": []
   },
   "outputs": [],
   "source": [
    "#evaluating the unique entries in the variable list\n",
    "\n",
    "house_df_new['condition'].sort_values().unique()"
   ]
  },
  {
   "cell_type": "code",
   "execution_count": null,
   "metadata": {
    "ExecuteTime": {
     "end_time": "2019-03-28T15:28:10.019034Z",
     "start_time": "2019-03-28T15:28:09.919768Z"
    },
    "code_folding": []
   },
   "outputs": [],
   "source": [
    "# evaluating the number of unique entries\n",
    "house_df_new['condition'].sort_values().unique().shape"
   ]
  },
  {
   "cell_type": "markdown",
   "metadata": {},
   "source": [
    "This variable is of categorical type indicating the overall condition of the property with value ranging from 1 to 5. Probably 1 indicating poor condition and 5 indicating very good condition.  "
   ]
  },
  {
   "cell_type": "code",
   "execution_count": null,
   "metadata": {
    "ExecuteTime": {
     "end_time": "2019-03-28T15:28:10.381008Z",
     "start_time": "2019-03-28T15:28:10.022040Z"
    },
    "code_folding": [],
    "scrolled": true
   },
   "outputs": [],
   "source": [
    "# Verifying the distribution of the variable\n",
    "\n",
    "sns.distplot(house_df_new['condition'])\n",
    "plt.show()"
   ]
  },
  {
   "cell_type": "markdown",
   "metadata": {},
   "source": [
    "### Inference of distribution\n",
    "\n",
    "The data has three peaks. With the mean rating of 3 the maximum number of the occurances, the distribution is centrally spread. "
   ]
  },
  {
   "cell_type": "code",
   "execution_count": null,
   "metadata": {
    "ExecuteTime": {
     "end_time": "2019-03-28T15:28:10.595580Z",
     "start_time": "2019-03-28T15:28:10.385018Z"
    },
    "code_folding": [],
    "scrolled": true
   },
   "outputs": [],
   "source": [
    "# Plotting boxplot to detect outliers\n",
    "\n",
    "data=[(go.Box(x=house_df_new['condition'],name='condition',showlegend=True))]\n",
    "plotly.offline.iplot(data)"
   ]
  },
  {
   "cell_type": "markdown",
   "metadata": {},
   "source": [
    "### Inference of Suspected outliers\n",
    "\n",
    "The boxplot shows that the condition 1 is an outlier. Let's quantify the number of instances of condition 1."
   ]
  },
  {
   "cell_type": "code",
   "execution_count": null,
   "metadata": {
    "ExecuteTime": {
     "end_time": "2019-03-28T15:28:10.607611Z",
     "start_time": "2019-03-28T15:28:10.599589Z"
    },
    "code_folding": []
   },
   "outputs": [],
   "source": [
    "# creating outlier dataframe\n",
    "condition_outlier=house_df_new[(house_df_new.condition==1)]\n",
    "condition_outlier.shape"
   ]
  },
  {
   "cell_type": "markdown",
   "metadata": {},
   "source": [
    "There are only 30 outlier entitites. Let us remove them from the analysis dataframe."
   ]
  },
  {
   "cell_type": "markdown",
   "metadata": {
    "ExecuteTime": {
     "end_time": "2019-03-02T17:43:19.676214Z",
     "start_time": "2019-03-02T17:43:19.640166Z"
    }
   },
   "source": [
    "## Variable quality -> grade given to the housing unit, based on grading system"
   ]
  },
  {
   "cell_type": "code",
   "execution_count": null,
   "metadata": {
    "ExecuteTime": {
     "end_time": "2019-03-28T15:28:10.715898Z",
     "start_time": "2019-03-28T15:28:10.610618Z"
    },
    "code_folding": []
   },
   "outputs": [],
   "source": [
    "#evaluating the unique entries in the variable list\n",
    "\n",
    "house_df_new['quality'].sort_values().unique()"
   ]
  },
  {
   "cell_type": "code",
   "execution_count": null,
   "metadata": {
    "ExecuteTime": {
     "end_time": "2019-03-28T15:28:10.816164Z",
     "start_time": "2019-03-28T15:28:10.718906Z"
    },
    "code_folding": []
   },
   "outputs": [],
   "source": [
    "# evaluating the number of unique entries\n",
    "house_df_new['quality'].sort_values().unique().shape"
   ]
  },
  {
   "cell_type": "markdown",
   "metadata": {},
   "source": [
    "This variable is of categorical type indicating the grade of the property with value ranging from 1 to 13. "
   ]
  },
  {
   "cell_type": "code",
   "execution_count": null,
   "metadata": {
    "ExecuteTime": {
     "end_time": "2019-03-28T15:28:11.111978Z",
     "start_time": "2019-03-28T15:28:10.819173Z"
    },
    "code_folding": [],
    "scrolled": true
   },
   "outputs": [],
   "source": [
    "# Verifying the distribution of the variable\n",
    "\n",
    "sns.distplot(house_df_new['quality'])\n",
    "plt.show()"
   ]
  },
  {
   "cell_type": "markdown",
   "metadata": {},
   "source": [
    "### Inference of distribution\n",
    "\n",
    "The data has 7 peaks. With the mean rating of 7 the maximum number of the occurances, the distribution is centrally spread. "
   ]
  },
  {
   "cell_type": "code",
   "execution_count": null,
   "metadata": {
    "ExecuteTime": {
     "end_time": "2019-03-28T15:28:11.316493Z",
     "start_time": "2019-03-28T15:28:11.115962Z"
    },
    "code_folding": [],
    "scrolled": true
   },
   "outputs": [],
   "source": [
    "# Plotting boxplot to detect outliers\n",
    "\n",
    "data=[(go.Box(x=house_df_new['quality'],name='quality',showlegend=True))]\n",
    "plotly.offline.iplot(data)"
   ]
  },
  {
   "cell_type": "markdown",
   "metadata": {},
   "source": [
    "### Inference of Suspected outliers\n",
    "\n",
    "The boxplot shows that the quality <6 and >9 are outliers. Let's quantify the number outlier instances."
   ]
  },
  {
   "cell_type": "code",
   "execution_count": null,
   "metadata": {
    "ExecuteTime": {
     "end_time": "2019-03-28T15:28:11.332540Z",
     "start_time": "2019-03-28T15:28:11.321508Z"
    },
    "code_folding": []
   },
   "outputs": [],
   "source": [
    "# creating outlier dataframe\n",
    "quality_outlier=house_df_new[(house_df_new.quality<6)|(house_df_new.quality>9)]\n",
    "quality_outlier.shape"
   ]
  },
  {
   "cell_type": "markdown",
   "metadata": {},
   "source": [
    "There are 1911 outlier entitites. Let us look into the respective corelation with price."
   ]
  },
  {
   "cell_type": "code",
   "execution_count": null,
   "metadata": {
    "ExecuteTime": {
     "end_time": "2019-03-28T15:28:11.452859Z",
     "start_time": "2019-03-28T15:28:11.336549Z"
    }
   },
   "outputs": [],
   "source": [
    "# correlation of quality with price\n",
    "quality_outlier['quality'].corr(house_df_new['price'])"
   ]
  },
  {
   "cell_type": "markdown",
   "metadata": {
    "ExecuteTime": {
     "end_time": "2019-03-03T04:25:27.776814Z",
     "start_time": "2019-03-03T04:25:27.768792Z"
    }
   },
   "source": [
    "The outlier variables have a moderate positive corelation with price. Hence, based on model accuracy the decision to remove or retain the outliers can be made"
   ]
  },
  {
   "cell_type": "markdown",
   "metadata": {
    "ExecuteTime": {
     "end_time": "2019-03-02T17:43:19.676214Z",
     "start_time": "2019-03-02T17:43:19.640166Z"
    }
   },
   "source": [
    "## Variable ceil_measure -> square footage apart from basement"
   ]
  },
  {
   "cell_type": "code",
   "execution_count": null,
   "metadata": {
    "ExecuteTime": {
     "end_time": "2019-03-28T15:28:11.555128Z",
     "start_time": "2019-03-28T15:28:11.456868Z"
    },
    "code_folding": []
   },
   "outputs": [],
   "source": [
    "# evaluating the number of unique entries\n",
    "house_df_new['ceil_measure'].sort_values().unique().shape"
   ]
  },
  {
   "cell_type": "markdown",
   "metadata": {},
   "source": [
    "There are 946 unique entries in the variable"
   ]
  },
  {
   "cell_type": "code",
   "execution_count": null,
   "metadata": {
    "ExecuteTime": {
     "end_time": "2019-03-28T15:28:11.856930Z",
     "start_time": "2019-03-28T15:28:11.558137Z"
    },
    "code_folding": [],
    "scrolled": true
   },
   "outputs": [],
   "source": [
    "# Verifying the distribution of the variable\n",
    "\n",
    "sns.distplot(house_df_new['ceil_measure'])\n",
    "plt.show()"
   ]
  },
  {
   "cell_type": "markdown",
   "metadata": {},
   "source": [
    "### Inference of distribution\n",
    "\n",
    "The data is normally distributed with moderate right skewedness indicating presence of outliers in high ceil measures."
   ]
  },
  {
   "cell_type": "code",
   "execution_count": null,
   "metadata": {
    "ExecuteTime": {
     "end_time": "2019-03-28T15:28:12.180791Z",
     "start_time": "2019-03-28T15:28:11.861950Z"
    },
    "code_folding": [],
    "scrolled": true
   },
   "outputs": [],
   "source": [
    "# Plotting boxplot to detect outliers\n",
    "\n",
    "data=[(go.Box(x=house_df_new['ceil_measure'],name='ceil_measure',showlegend=True))]\n",
    "plotly.offline.iplot(data)"
   ]
  },
  {
   "cell_type": "markdown",
   "metadata": {},
   "source": [
    "### Inference of Suspected outliers\n",
    "\n",
    "The boxplot shows that ceil measure > 3740 are outliers. Let's quantify the number of instances."
   ]
  },
  {
   "cell_type": "code",
   "execution_count": null,
   "metadata": {
    "ExecuteTime": {
     "end_time": "2019-03-28T15:28:12.198843Z",
     "start_time": "2019-03-28T15:28:12.184802Z"
    },
    "code_folding": []
   },
   "outputs": [],
   "source": [
    "# creating outlier dataframe\n",
    "ceil_measure_outlier=house_df_new[(house_df_new.ceil_measure>3740)]\n",
    "ceil_measure_outlier.shape"
   ]
  },
  {
   "cell_type": "code",
   "execution_count": null,
   "metadata": {
    "ExecuteTime": {
     "end_time": "2019-03-28T15:28:12.285068Z",
     "start_time": "2019-03-28T15:28:12.202851Z"
    }
   },
   "outputs": [],
   "source": [
    "# corelation of ceil_measure with price\n",
    "\n",
    "ceil_measure_outlier['ceil_measure'].corr(house_df_new['price'])"
   ]
  },
  {
   "cell_type": "markdown",
   "metadata": {},
   "source": [
    "There are 611 outlier entitites and they have moderate positive corelation with price. Hence, based on model accuracy we can choose to remove or retain them."
   ]
  },
  {
   "cell_type": "markdown",
   "metadata": {
    "ExecuteTime": {
     "end_time": "2019-03-02T17:43:19.676214Z",
     "start_time": "2019-03-02T17:43:19.640166Z"
    }
   },
   "source": [
    "## Variable basement -> square footage of basement"
   ]
  },
  {
   "cell_type": "code",
   "execution_count": null,
   "metadata": {
    "ExecuteTime": {
     "end_time": "2019-03-28T15:28:12.369292Z",
     "start_time": "2019-03-28T15:28:12.288076Z"
    },
    "code_folding": []
   },
   "outputs": [],
   "source": [
    "#evaluating the unique entries in the variable list\n",
    "\n",
    "house_df_new['basement'].sort_values().unique()"
   ]
  },
  {
   "cell_type": "code",
   "execution_count": null,
   "metadata": {
    "ExecuteTime": {
     "end_time": "2019-03-28T15:28:12.506657Z",
     "start_time": "2019-03-28T15:28:12.372301Z"
    },
    "code_folding": []
   },
   "outputs": [],
   "source": [
    "# evaluating the number of unique entries\n",
    "house_df_new['basement'].sort_values().unique().shape"
   ]
  },
  {
   "cell_type": "markdown",
   "metadata": {},
   "source": [
    "There are 306 unique entries in the variable"
   ]
  },
  {
   "cell_type": "code",
   "execution_count": null,
   "metadata": {
    "ExecuteTime": {
     "end_time": "2019-03-28T15:28:12.800440Z",
     "start_time": "2019-03-28T15:28:12.509666Z"
    },
    "code_folding": [],
    "scrolled": true
   },
   "outputs": [],
   "source": [
    "# Verifying the distribution of the variable\n",
    "\n",
    "sns.distplot(house_df_new['basement'])\n",
    "plt.show()"
   ]
  },
  {
   "cell_type": "markdown",
   "metadata": {},
   "source": [
    "### Inference of distribution\n",
    "\n",
    "The data has two peaksright skewedness indicating presence of outliers in high basement measures. Also histogram indicates that most of the houses do not have basement."
   ]
  },
  {
   "cell_type": "code",
   "execution_count": null,
   "metadata": {
    "ExecuteTime": {
     "end_time": "2019-03-28T15:28:12.993953Z",
     "start_time": "2019-03-28T15:28:12.803447Z"
    },
    "code_folding": [],
    "scrolled": true
   },
   "outputs": [],
   "source": [
    "# Plotting boxplot to detect outliers\n",
    "\n",
    "data=[(go.Box(x=house_df_new['basement'],name='basement',showlegend=True))]\n",
    "plotly.offline.iplot(data)"
   ]
  },
  {
   "cell_type": "markdown",
   "metadata": {},
   "source": [
    "### Inference of Suspected outliers\n",
    "\n",
    "The boxplot shows that basement measures > 1400 are outliers. Let's quantify the number of instances."
   ]
  },
  {
   "cell_type": "code",
   "execution_count": null,
   "metadata": {
    "ExecuteTime": {
     "end_time": "2019-03-28T15:28:13.007991Z",
     "start_time": "2019-03-28T15:28:12.998966Z"
    },
    "code_folding": []
   },
   "outputs": [],
   "source": [
    "# creating outlier dataframe\n",
    "basement_outlier=house_df_new[(house_df_new.basement>1400)]\n",
    "basement_outlier.shape"
   ]
  },
  {
   "cell_type": "code",
   "execution_count": null,
   "metadata": {
    "ExecuteTime": {
     "end_time": "2019-03-28T15:28:13.107253Z",
     "start_time": "2019-03-28T15:28:13.011000Z"
    }
   },
   "outputs": [],
   "source": [
    "# corelation of basement size with price\n",
    "\n",
    "basement_outlier['basement'].corr(house_df_new['price'])"
   ]
  },
  {
   "cell_type": "markdown",
   "metadata": {},
   "source": [
    "There are 496 outlier entitites and they have a moderate positive corelation with price. Hence, based on modelling accuracy let's take a call to remove or retain them."
   ]
  },
  {
   "cell_type": "markdown",
   "metadata": {
    "ExecuteTime": {
     "end_time": "2019-03-02T17:43:19.676214Z",
     "start_time": "2019-03-02T17:43:19.640166Z"
    }
   },
   "source": [
    "## Variable yr_built-> Built year"
   ]
  },
  {
   "cell_type": "code",
   "execution_count": null,
   "metadata": {
    "ExecuteTime": {
     "end_time": "2019-03-28T15:28:13.200502Z",
     "start_time": "2019-03-28T15:28:13.110262Z"
    },
    "code_folding": []
   },
   "outputs": [],
   "source": [
    "#evaluating the unique entries in the variable list\n",
    "\n",
    "house_df_new['yr_built'].sort_values().unique()"
   ]
  },
  {
   "cell_type": "code",
   "execution_count": null,
   "metadata": {
    "ExecuteTime": {
     "end_time": "2019-03-28T15:28:13.297761Z",
     "start_time": "2019-03-28T15:28:13.203509Z"
    },
    "code_folding": []
   },
   "outputs": [],
   "source": [
    "# evaluating the number of unique entries\n",
    "house_df_new['yr_built'].sort_values().unique().shape"
   ]
  },
  {
   "cell_type": "markdown",
   "metadata": {},
   "source": [
    "There are 116 unique entries in the variable. The earliest built house is in 1900 while the latest being built in 2015."
   ]
  },
  {
   "cell_type": "code",
   "execution_count": null,
   "metadata": {
    "ExecuteTime": {
     "end_time": "2019-03-28T15:28:13.601568Z",
     "start_time": "2019-03-28T15:28:13.300768Z"
    },
    "code_folding": [],
    "scrolled": true
   },
   "outputs": [],
   "source": [
    "# Verifying the distribution of the variable\n",
    "\n",
    "sns.distplot(house_df_new['yr_built'])\n",
    "plt.show()"
   ]
  },
  {
   "cell_type": "markdown",
   "metadata": {},
   "source": [
    "### Inference of distribution\n",
    "\n",
    "The data shows that the houses being built were following an increase in trend from 1900 and peaking in the 2000s. "
   ]
  },
  {
   "cell_type": "code",
   "execution_count": null,
   "metadata": {
    "ExecuteTime": {
     "end_time": "2019-03-28T15:28:13.790069Z",
     "start_time": "2019-03-28T15:28:13.604576Z"
    },
    "code_folding": [],
    "scrolled": true
   },
   "outputs": [],
   "source": [
    "# Plotting boxplot to detect outliers\n",
    "\n",
    "data=[(go.Box(x=house_df_new['yr_built'],name='yr_built',showlegend=True))]\n",
    "plotly.offline.iplot(data)"
   ]
  },
  {
   "cell_type": "markdown",
   "metadata": {},
   "source": [
    "### Inference of Suspected outliers\n",
    "\n",
    "The boxplot shows there are no outliers in the data."
   ]
  },
  {
   "cell_type": "markdown",
   "metadata": {
    "ExecuteTime": {
     "end_time": "2019-03-02T17:43:19.676214Z",
     "start_time": "2019-03-02T17:43:19.640166Z"
    }
   },
   "source": [
    "## Variable yr_renovated -> Renovated year"
   ]
  },
  {
   "cell_type": "code",
   "execution_count": null,
   "metadata": {
    "ExecuteTime": {
     "end_time": "2019-03-28T15:28:13.802102Z",
     "start_time": "2019-03-28T15:28:13.792073Z"
    },
    "code_folding": []
   },
   "outputs": [],
   "source": [
    "#evaluating the unique entries in the variable list\n",
    "\n",
    "house_df_new['yr_renovated'].sort_values().unique()"
   ]
  },
  {
   "cell_type": "code",
   "execution_count": null,
   "metadata": {
    "ExecuteTime": {
     "end_time": "2019-03-28T15:28:13.890337Z",
     "start_time": "2019-03-28T15:28:13.805111Z"
    },
    "code_folding": []
   },
   "outputs": [],
   "source": [
    "# evaluating the number of unique entries\n",
    "house_df_new['yr_renovated'].sort_values().unique().shape"
   ]
  },
  {
   "cell_type": "markdown",
   "metadata": {},
   "source": [
    "There are 70 unique entries in the variable. '0' would be typically refering that the property was not renovated."
   ]
  },
  {
   "cell_type": "code",
   "execution_count": null,
   "metadata": {
    "ExecuteTime": {
     "end_time": "2019-03-28T15:28:14.205178Z",
     "start_time": "2019-03-28T15:28:13.893344Z"
    },
    "code_folding": [],
    "scrolled": true
   },
   "outputs": [],
   "source": [
    "# Verifying the distribution of the variable\n",
    "\n",
    "sns.distplot(house_df_new['yr_renovated'])\n",
    "plt.show()"
   ]
  },
  {
   "cell_type": "markdown",
   "metadata": {},
   "source": [
    "### Inference of distribution\n",
    "\n",
    "The data has two inferences. One being that most of the houses are not renovated. The second being that the renovations followed were mostly in the 2000s."
   ]
  },
  {
   "cell_type": "code",
   "execution_count": null,
   "metadata": {
    "ExecuteTime": {
     "end_time": "2019-03-28T15:28:14.535049Z",
     "start_time": "2019-03-28T15:28:14.208182Z"
    },
    "code_folding": [],
    "scrolled": true
   },
   "outputs": [],
   "source": [
    "# Plotting boxplot to detect outliers\n",
    "\n",
    "data=[(go.Box(x=house_df_new['yr_renovated'],name='yr_renovated',showlegend=True))]\n",
    "plotly.offline.iplot(data)"
   ]
  },
  {
   "cell_type": "markdown",
   "metadata": {},
   "source": [
    "### Inference of Suspected outliers\n",
    "\n",
    "The boxplot shows that all the renovations being an outlier. Let's look into the number of such instances."
   ]
  },
  {
   "cell_type": "code",
   "execution_count": null,
   "metadata": {
    "ExecuteTime": {
     "end_time": "2019-03-28T15:28:14.547081Z",
     "start_time": "2019-03-28T15:28:14.538056Z"
    },
    "code_folding": []
   },
   "outputs": [],
   "source": [
    "# creating outlier dataframe\n",
    "yr_renovated_outlier=house_df_new[(house_df_new.yr_renovated>0)]\n",
    "yr_renovated_outlier.shape"
   ]
  },
  {
   "cell_type": "markdown",
   "metadata": {},
   "source": [
    "There are 914 outlier entitites. Let us look into its corelation with price to decide on whether to remove them or not from the analysis dataframe."
   ]
  },
  {
   "cell_type": "code",
   "execution_count": null,
   "metadata": {
    "ExecuteTime": {
     "end_time": "2019-03-28T15:28:14.657373Z",
     "start_time": "2019-03-28T15:28:14.550089Z"
    }
   },
   "outputs": [],
   "source": [
    "# corelation of yr_renovated with price\n",
    "yr_renovated_outlier['yr_renovated'].corr(house_df_new['price'])"
   ]
  },
  {
   "cell_type": "markdown",
   "metadata": {},
   "source": [
    "The corelation with price is very low. Hence, we can remove them from the analysis dataframe"
   ]
  },
  {
   "cell_type": "markdown",
   "metadata": {},
   "source": [
    "## Variable zipcode -> Property Zipcode"
   ]
  },
  {
   "cell_type": "code",
   "execution_count": null,
   "metadata": {
    "ExecuteTime": {
     "end_time": "2019-03-28T15:28:14.766664Z",
     "start_time": "2019-03-28T15:28:14.660382Z"
    },
    "code_folding": [
     0
    ],
    "scrolled": false
   },
   "outputs": [],
   "source": [
    "#evaluating the unique entries in the variable list\n",
    "\n",
    "house_df_new['zipcode'].sort_values().unique()"
   ]
  },
  {
   "cell_type": "code",
   "execution_count": null,
   "metadata": {
    "ExecuteTime": {
     "end_time": "2019-03-28T15:28:14.857907Z",
     "start_time": "2019-03-28T15:28:14.769672Z"
    },
    "code_folding": [
     0
    ]
   },
   "outputs": [],
   "source": [
    "# evaluating the number of unique entries\n",
    "house_df_new['zipcode'].sort_values().unique().shape"
   ]
  },
  {
   "cell_type": "markdown",
   "metadata": {},
   "source": [
    "There are 70 unique zipcode entries in the dataset. On looking up the zipcodes, these are located in Seattle, Washington in the USA."
   ]
  },
  {
   "cell_type": "code",
   "execution_count": null,
   "metadata": {
    "ExecuteTime": {
     "end_time": "2019-03-28T15:28:15.150686Z",
     "start_time": "2019-03-28T15:28:14.860915Z"
    },
    "code_folding": [
     0
    ]
   },
   "outputs": [],
   "source": [
    "# Verifying the distribution of the variable\n",
    "\n",
    "sns.distplot(house_df_new['zipcode'])\n",
    "plt.show()"
   ]
  },
  {
   "cell_type": "markdown",
   "metadata": {},
   "source": [
    "### Inference of distribution\n",
    "\n",
    "There are multiple peaks indicating clusters present in the data. Almost all zipcodes have multiple entries, indicating multiple house properties in a given area. "
   ]
  },
  {
   "cell_type": "code",
   "execution_count": null,
   "metadata": {
    "ExecuteTime": {
     "end_time": "2019-03-28T15:28:15.376284Z",
     "start_time": "2019-03-28T15:28:15.153696Z"
    },
    "code_folding": [
     0
    ]
   },
   "outputs": [],
   "source": [
    "# Plotting boxplot to detect outliers\n",
    "\n",
    "data=[(go.Box(x=house_df_new['zipcode'],name='zipcode',showlegend=True))]\n",
    "plotly.offline.iplot(data)"
   ]
  },
  {
   "cell_type": "markdown",
   "metadata": {},
   "source": [
    "### Inference of outliers\n",
    "\n",
    "There are no outliers present in the dataset."
   ]
  },
  {
   "cell_type": "markdown",
   "metadata": {},
   "source": [
    "## Variable lat -> Property latitude"
   ]
  },
  {
   "cell_type": "code",
   "execution_count": null,
   "metadata": {
    "ExecuteTime": {
     "end_time": "2019-03-28T15:28:15.400348Z",
     "start_time": "2019-03-28T15:28:15.386311Z"
    },
    "code_folding": [
     0
    ],
    "scrolled": true
   },
   "outputs": [],
   "source": [
    "#evaluating the unique entries in the variable list\n",
    "\n",
    "house_df_new['lat'].sort_values().unique()"
   ]
  },
  {
   "cell_type": "code",
   "execution_count": null,
   "metadata": {
    "ExecuteTime": {
     "end_time": "2019-03-28T15:28:15.495604Z",
     "start_time": "2019-03-28T15:28:15.405364Z"
    },
    "code_folding": [
     0
    ]
   },
   "outputs": [],
   "source": [
    "# evaluating the number of unique entries\n",
    "house_df_new['lat'].sort_values().unique().shape"
   ]
  },
  {
   "cell_type": "markdown",
   "metadata": {},
   "source": [
    "There are 5034 unique latitude entries in the dataset. "
   ]
  },
  {
   "cell_type": "code",
   "execution_count": null,
   "metadata": {
    "ExecuteTime": {
     "end_time": "2019-03-28T15:28:15.814452Z",
     "start_time": "2019-03-28T15:28:15.501618Z"
    },
    "code_folding": [
     0
    ]
   },
   "outputs": [],
   "source": [
    "# Verifying the distribution of the variable\n",
    "\n",
    "sns.distplot(house_df_new['lat'])\n",
    "plt.show()"
   ]
  },
  {
   "cell_type": "markdown",
   "metadata": {},
   "source": [
    "### Inference of distribution\n",
    "\n",
    "There are three distinct peaks indicating 3 prominent latitude clusters present in the data. "
   ]
  },
  {
   "cell_type": "code",
   "execution_count": null,
   "metadata": {
    "ExecuteTime": {
     "end_time": "2019-03-28T15:28:16.140316Z",
     "start_time": "2019-03-28T15:28:15.817457Z"
    },
    "code_folding": [
     0
    ]
   },
   "outputs": [],
   "source": [
    "# Plotting boxplot to detect outliers\n",
    "\n",
    "data=[(go.Box(x=house_df_new['lat'],name='lat',showlegend=True))]\n",
    "plotly.offline.iplot(data)"
   ]
  },
  {
   "cell_type": "markdown",
   "metadata": {},
   "source": [
    "### Inference of suspected outliers\n",
    "\n",
    "As per boxplot, latitudes < 47.1622 are outliers. And thus there are two outliers present in the dataset. Let's us look in conjection with longitude details to check if they are truly outliers."
   ]
  },
  {
   "cell_type": "markdown",
   "metadata": {},
   "source": [
    "## Suspected Outlier Verification - Latitude"
   ]
  },
  {
   "cell_type": "code",
   "execution_count": null,
   "metadata": {
    "ExecuteTime": {
     "end_time": "2019-03-28T15:28:16.158363Z",
     "start_time": "2019-03-28T15:28:16.143323Z"
    },
    "code_folding": [
     0
    ]
   },
   "outputs": [],
   "source": [
    "# printing all rows with suspected outliers in Latitude and checking against longitude and zipcode\n",
    "\n",
    "house_df_new[house_df_new.lat<47.1622][['lat','long','zipcode']]"
   ]
  },
  {
   "cell_type": "markdown",
   "metadata": {},
   "source": [
    "### Outlier Conclusion\n",
    "\n",
    "The suspected latitude coordinates were verified along with the respective longitudes and were matching to the zipcode provided. Hence, they are not cases of mis-entry and thus these data points would be retained in the dataset.\n",
    "\n",
    "#### Online verification of co-ordinates\n",
    "\n",
    "https://www.melissa.com/v2/lookups/latlngzip4/index?lat=47.1559&lng=-121.646\n",
    "\n",
    "https://www.melissa.com/v2/lookups/latlngzip4/index?lat=47.1593&lng=-121.957"
   ]
  },
  {
   "cell_type": "markdown",
   "metadata": {},
   "source": [
    "## Variable long -> Property longitude"
   ]
  },
  {
   "cell_type": "code",
   "execution_count": null,
   "metadata": {
    "ExecuteTime": {
     "end_time": "2019-03-28T15:28:16.248604Z",
     "start_time": "2019-03-28T15:28:16.161371Z"
    },
    "code_folding": [
     0
    ],
    "scrolled": true
   },
   "outputs": [],
   "source": [
    "#evaluating the unique entries in the variable list\n",
    "\n",
    "house_df_new['long'].sort_values().unique()"
   ]
  },
  {
   "cell_type": "code",
   "execution_count": null,
   "metadata": {
    "ExecuteTime": {
     "end_time": "2019-03-28T15:28:16.333831Z",
     "start_time": "2019-03-28T15:28:16.251612Z"
    },
    "code_folding": [
     0
    ]
   },
   "outputs": [],
   "source": [
    "# evaluating the number of unique entries\n",
    "house_df_new['long'].sort_values().unique().shape"
   ]
  },
  {
   "cell_type": "markdown",
   "metadata": {},
   "source": [
    "There are 752 unique longitude entries in the dataset. "
   ]
  },
  {
   "cell_type": "code",
   "execution_count": null,
   "metadata": {
    "ExecuteTime": {
     "end_time": "2019-03-28T15:28:16.684762Z",
     "start_time": "2019-03-28T15:28:16.337840Z"
    },
    "code_folding": [
     0
    ]
   },
   "outputs": [],
   "source": [
    "# Verifying the distribution of the variable\n",
    "\n",
    "sns.distplot(house_df_new['long'])\n",
    "plt.show()"
   ]
  },
  {
   "cell_type": "markdown",
   "metadata": {},
   "source": [
    "### Inference of distribution\n",
    "\n",
    "There are five distinct peaks indicating 5 prominent longitude clusters present in the data. "
   ]
  },
  {
   "cell_type": "code",
   "execution_count": null,
   "metadata": {
    "ExecuteTime": {
     "end_time": "2019-03-28T15:28:17.031685Z",
     "start_time": "2019-03-28T15:28:16.687771Z"
    },
    "code_folding": [
     0
    ]
   },
   "outputs": [],
   "source": [
    "# Plotting boxplot to detect outliers\n",
    "\n",
    "data=[(go.Box(x=house_df_new['long'],name='long',showlegend=True))]\n",
    "plotly.offline.iplot(data)"
   ]
  },
  {
   "cell_type": "markdown",
   "metadata": {},
   "source": [
    "### Inference of suspected outliers\n",
    "\n",
    "As per boxplot, all values greater that -121.821 are marked as outliers. Let's evaluate them along with latitude to check if they are truly outliers."
   ]
  },
  {
   "cell_type": "markdown",
   "metadata": {},
   "source": [
    "## Suspected Outlier Verification - Latitude"
   ]
  },
  {
   "cell_type": "code",
   "execution_count": null,
   "metadata": {
    "ExecuteTime": {
     "end_time": "2019-03-28T15:28:17.052740Z",
     "start_time": "2019-03-28T15:28:17.035694Z"
    },
    "code_folding": []
   },
   "outputs": [],
   "source": [
    "# printing all rows with suspected outliers in Latitude and checking against longitude and zipcode\n",
    "\n",
    "long_outlier=house_df_new[house_df_new.long>-121.821]\n",
    "\n",
    "long_outlier.shape"
   ]
  },
  {
   "cell_type": "markdown",
   "metadata": {},
   "source": [
    "There are a total of 256 suspected outliers in longitude"
   ]
  },
  {
   "cell_type": "code",
   "execution_count": null,
   "metadata": {
    "ExecuteTime": {
     "end_time": "2019-03-28T15:28:17.152005Z",
     "start_time": "2019-03-28T15:28:17.055750Z"
    },
    "code_folding": []
   },
   "outputs": [],
   "source": [
    "# verifying unique pincodes of the suspected longitude outliers\n",
    "\n",
    "long_outlier['zipcode'].unique()"
   ]
  },
  {
   "cell_type": "markdown",
   "metadata": {},
   "source": [
    "### Evaluating one such coordinate in the uszipcode database to check the correctness of the longitude\n",
    "\n",
    "ID: 21514 Lat: 47.4834 Long: -121.773 Zipcode: 98045"
   ]
  },
  {
   "cell_type": "code",
   "execution_count": null,
   "metadata": {
    "ExecuteTime": {
     "end_time": "2019-03-28T15:28:17.228209Z",
     "start_time": "2019-03-28T15:28:17.158021Z"
    }
   },
   "outputs": [],
   "source": [
    "#!pip install uszipcode  #to install the uszipcode package"
   ]
  },
  {
   "cell_type": "code",
   "execution_count": null,
   "metadata": {
    "ExecuteTime": {
     "end_time": "2019-03-28T15:28:20.208643Z",
     "start_time": "2019-03-28T15:28:17.232217Z"
    },
    "code_folding": [
     0
    ]
   },
   "outputs": [],
   "source": [
    "# using the SearchEngine module in the uszipcode package\n",
    "\n",
    "from uszipcode import SearchEngine \n",
    "search = SearchEngine(simple_zipcode=True) #import only simple_zipcode package (9mb)"
   ]
  },
  {
   "cell_type": "code",
   "execution_count": null,
   "metadata": {
    "ExecuteTime": {
     "end_time": "2019-03-28T15:28:20.405308Z",
     "start_time": "2019-03-28T15:28:20.211634Z"
    },
    "code_folding": [
     0
    ],
    "scrolled": true
   },
   "outputs": [],
   "source": [
    "# Employing reverse Geocoding to evaluate the zipcode for the input lat and long\n",
    "res=search.by_coordinates(47.4834,-121.773,radius=10,returns=0)\n",
    "for i in range(len(res)):\n",
    "    print(res[i].zipcode)"
   ]
  },
  {
   "cell_type": "code",
   "execution_count": null,
   "metadata": {
    "ExecuteTime": {
     "end_time": "2019-03-28T15:28:20.419345Z",
     "start_time": "2019-03-28T15:28:20.409318Z"
    }
   },
   "outputs": [],
   "source": [
    "# corelation of longitude with price\n",
    "\n",
    "long_outlier['long'].corr(house_df_new['price'])"
   ]
  },
  {
   "cell_type": "markdown",
   "metadata": {},
   "source": [
    "### Outlier inference\n",
    "\n",
    "For this lat and long, the zipcode in the US database is not matching with the entries in our house database. Also, there is no correlation with price, hence, we'll remove them from the analysis dataframe.\n"
   ]
  },
  {
   "cell_type": "markdown",
   "metadata": {},
   "source": [
    "## Variable living_measure15 -> If living measure in 2015 (denotes some renovations)"
   ]
  },
  {
   "cell_type": "code",
   "execution_count": null,
   "metadata": {
    "ExecuteTime": {
     "end_time": "2019-03-28T15:28:20.534655Z",
     "start_time": "2019-03-28T15:28:20.423356Z"
    },
    "code_folding": [
     0
    ],
    "scrolled": true
   },
   "outputs": [],
   "source": [
    "#evaluating the unique entries in the variable list\n",
    "\n",
    "house_df_new['living_measure15'].sort_values().unique()"
   ]
  },
  {
   "cell_type": "code",
   "execution_count": null,
   "metadata": {
    "ExecuteTime": {
     "end_time": "2019-03-28T15:28:20.608848Z",
     "start_time": "2019-03-28T15:28:20.537659Z"
    },
    "code_folding": [
     0
    ]
   },
   "outputs": [],
   "source": [
    "# evaluating the number of unique entries\n",
    "house_df_new['living_measure15'].sort_values().unique().shape"
   ]
  },
  {
   "cell_type": "markdown",
   "metadata": {},
   "source": [
    "There are 777 unique renovated living measure entries in the dataset."
   ]
  },
  {
   "cell_type": "code",
   "execution_count": null,
   "metadata": {
    "ExecuteTime": {
     "end_time": "2019-03-28T15:28:20.975823Z",
     "start_time": "2019-03-28T15:28:20.611856Z"
    },
    "code_folding": [
     0
    ]
   },
   "outputs": [],
   "source": [
    "# Verifying the distribution of the variable\n",
    "\n",
    "sns.distplot(house_df_new['living_measure15'])\n",
    "plt.show()"
   ]
  },
  {
   "cell_type": "markdown",
   "metadata": {},
   "source": [
    "### Inference of distribution\n",
    "\n",
    "The data has a normal distribution with only one peak. The distribution is slightly right skewed, indicating a possibility of outliers."
   ]
  },
  {
   "cell_type": "code",
   "execution_count": null,
   "metadata": {
    "ExecuteTime": {
     "end_time": "2019-03-28T15:28:21.193403Z",
     "start_time": "2019-03-28T15:28:20.981865Z"
    },
    "code_folding": [
     0
    ],
    "scrolled": true
   },
   "outputs": [],
   "source": [
    "# Plotting boxplot to detect outliers\n",
    "\n",
    "data=[(go.Box(x=house_df_new['living_measure15'],name='Living measure renovated in 2015',showlegend=True))]\n",
    "plotly.offline.iplot(data)"
   ]
  },
  {
   "cell_type": "markdown",
   "metadata": {},
   "source": [
    "### Inference of Suspected outliers\n",
    "\n",
    "As per boxplot, values > 3660 suggests suspected outliers."
   ]
  },
  {
   "cell_type": "code",
   "execution_count": null,
   "metadata": {
    "ExecuteTime": {
     "end_time": "2019-03-28T15:28:21.208448Z",
     "start_time": "2019-03-28T15:28:21.196409Z"
    },
    "code_folding": []
   },
   "outputs": [],
   "source": [
    "# creating outlier dataframe\n",
    "liv_meas15_outlier=house_df_new[(house_df_new.living_measure15>3660)]\n",
    "liv_meas15_outlier.shape"
   ]
  },
  {
   "cell_type": "code",
   "execution_count": null,
   "metadata": {
    "ExecuteTime": {
     "end_time": "2019-03-28T15:28:21.306704Z",
     "start_time": "2019-03-28T15:28:21.211450Z"
    }
   },
   "outputs": [],
   "source": [
    "# correlation of living measure (2015) with price\n",
    "\n",
    "liv_meas15_outlier['living_measure15'].corr(house_df_new['price'])"
   ]
  },
  {
   "cell_type": "markdown",
   "metadata": {},
   "source": [
    "There are 544 outlier entries. They have no corelation with price. Hence, they can be removed from the analysis dataframe"
   ]
  },
  {
   "cell_type": "markdown",
   "metadata": {},
   "source": [
    "## Variable lot_measure15 -> Lot measure in 2015 "
   ]
  },
  {
   "cell_type": "code",
   "execution_count": null,
   "metadata": {
    "ExecuteTime": {
     "end_time": "2019-03-28T15:28:21.416996Z",
     "start_time": "2019-03-28T15:28:21.311716Z"
    },
    "code_folding": [
     0
    ],
    "scrolled": true
   },
   "outputs": [],
   "source": [
    "#evaluating the unique entries in the variable list\n",
    "\n",
    "house_df_new['lot_measure15'].sort_values().unique()"
   ]
  },
  {
   "cell_type": "code",
   "execution_count": null,
   "metadata": {
    "ExecuteTime": {
     "end_time": "2019-03-28T15:28:21.514255Z",
     "start_time": "2019-03-28T15:28:21.423014Z"
    },
    "code_folding": [
     0
    ]
   },
   "outputs": [],
   "source": [
    "# evaluating the number of unique entries\n",
    "house_df_new['lot_measure15'].sort_values().unique().shape"
   ]
  },
  {
   "cell_type": "markdown",
   "metadata": {},
   "source": [
    "There are 8689 unique renovated lot measure entries in the dataset."
   ]
  },
  {
   "cell_type": "code",
   "execution_count": null,
   "metadata": {
    "ExecuteTime": {
     "end_time": "2019-03-28T15:28:21.822074Z",
     "start_time": "2019-03-28T15:28:21.517263Z"
    },
    "code_folding": [
     0
    ]
   },
   "outputs": [],
   "source": [
    "# Verifying the distribution of the variable\n",
    "\n",
    "sns.distplot(house_df_new['lot_measure15'])\n",
    "plt.show()"
   ]
  },
  {
   "cell_type": "markdown",
   "metadata": {},
   "source": [
    "### Inference of distribution\n",
    "\n",
    "The data has two peaks indicating two clusters. The histogram shows an abnormaly high number of instances in the lot measures of smaller size, indicating maximum presence of such properties. Also, the data is extremely right skewed indicating presence of outliers."
   ]
  },
  {
   "cell_type": "code",
   "execution_count": null,
   "metadata": {
    "ExecuteTime": {
     "end_time": "2019-03-28T15:28:22.018596Z",
     "start_time": "2019-03-28T15:28:21.825083Z"
    },
    "code_folding": [
     0
    ],
    "scrolled": true
   },
   "outputs": [],
   "source": [
    "# Plotting boxplot to detect outliers\n",
    "\n",
    "data=[(go.Box(x=house_df_new['lot_measure15'],name='Lot measure in 2015',showlegend=True))]\n",
    "plotly.offline.iplot(data)"
   ]
  },
  {
   "cell_type": "markdown",
   "metadata": {},
   "source": [
    "### Inference of Suspected outliers\n",
    "\n",
    "As per boxplot, values > 17.55k suggests suspected outliers."
   ]
  },
  {
   "cell_type": "code",
   "execution_count": null,
   "metadata": {
    "ExecuteTime": {
     "end_time": "2019-03-28T15:28:22.033635Z",
     "start_time": "2019-03-28T15:28:22.023608Z"
    },
    "code_folding": []
   },
   "outputs": [],
   "source": [
    "# creating outlier dataframe\n",
    "lot_meas15_outlier=house_df_new[(house_df_new.lot_measure15>17550)]\n",
    "lot_meas15_outlier.shape"
   ]
  },
  {
   "cell_type": "code",
   "execution_count": null,
   "metadata": {
    "ExecuteTime": {
     "end_time": "2019-03-28T15:28:22.123875Z",
     "start_time": "2019-03-28T15:28:22.036643Z"
    }
   },
   "outputs": [],
   "source": [
    "# correlation of lot measure(2015) with price\n",
    "\n",
    "lot_meas15_outlier['lot_measure15'].corr(house_df_new['price'])"
   ]
  },
  {
   "cell_type": "markdown",
   "metadata": {},
   "source": [
    "There are 2194 outlier entries. And they have no corelation with price. Hene, they can be removed from the analysis dataframe."
   ]
  },
  {
   "cell_type": "markdown",
   "metadata": {},
   "source": [
    "## Variable Furnished -> Based on the quality of room "
   ]
  },
  {
   "cell_type": "code",
   "execution_count": null,
   "metadata": {
    "ExecuteTime": {
     "end_time": "2019-03-28T15:28:22.248205Z",
     "start_time": "2019-03-28T15:28:22.126883Z"
    },
    "code_folding": [
     0
    ],
    "scrolled": true
   },
   "outputs": [],
   "source": [
    "#evaluating the unique entries in the variable list\n",
    "\n",
    "house_df_new['furnished'].sort_values().unique()"
   ]
  },
  {
   "cell_type": "code",
   "execution_count": null,
   "metadata": {
    "ExecuteTime": {
     "end_time": "2019-03-28T15:28:22.366520Z",
     "start_time": "2019-03-28T15:28:22.251213Z"
    },
    "code_folding": [
     0
    ]
   },
   "outputs": [],
   "source": [
    "# evaluating the number of unique entries\n",
    "house_df_new['furnished'].sort_values().unique().shape"
   ]
  },
  {
   "cell_type": "markdown",
   "metadata": {},
   "source": [
    "This variable is a categorical variable indicating if the room has been furnished or not"
   ]
  },
  {
   "cell_type": "code",
   "execution_count": null,
   "metadata": {
    "ExecuteTime": {
     "end_time": "2019-03-28T15:28:22.693389Z",
     "start_time": "2019-03-28T15:28:22.369529Z"
    },
    "code_folding": [
     0
    ]
   },
   "outputs": [],
   "source": [
    "# Verifying the distribution of the variable\n",
    "\n",
    "sns.distplot(house_df_new['furnished'])\n",
    "plt.show()"
   ]
  },
  {
   "cell_type": "markdown",
   "metadata": {},
   "source": [
    "### Inference of distribution\n",
    "\n",
    "As the data is categorical, distribution cannot be quanitfied. But based on the histogram, we can see that only a few entities are furnished, while the rest are unfurnished."
   ]
  },
  {
   "cell_type": "code",
   "execution_count": null,
   "metadata": {
    "ExecuteTime": {
     "end_time": "2019-03-28T15:28:22.711436Z",
     "start_time": "2019-03-28T15:28:22.697400Z"
    },
    "code_folding": []
   },
   "outputs": [],
   "source": [
    "# Number of unfurnished houses\n",
    "furn_no=house_df_new[house_df_new.furnished==0].shape\n",
    "furn_no[0]"
   ]
  },
  {
   "cell_type": "code",
   "execution_count": null,
   "metadata": {
    "ExecuteTime": {
     "end_time": "2019-03-28T15:28:22.800675Z",
     "start_time": "2019-03-28T15:28:22.716451Z"
    },
    "code_folding": []
   },
   "outputs": [],
   "source": [
    "# Number of furnished houses\n",
    "furn_yes=house_df_new[house_df_new.furnished==1].shape\n",
    "furn_yes[0]"
   ]
  },
  {
   "cell_type": "code",
   "execution_count": null,
   "metadata": {
    "ExecuteTime": {
     "end_time": "2019-03-28T15:28:22.881901Z",
     "start_time": "2019-03-28T15:28:22.804685Z"
    },
    "code_folding": []
   },
   "outputs": [],
   "source": [
    "# Percentage of Furnished houses\n",
    "print ('%3.2f'%(furn_yes[0]/df_size[0]*100),'%')"
   ]
  },
  {
   "cell_type": "markdown",
   "metadata": {},
   "source": [
    "The data shows only 4251 houses are furnished, while the remaining is unfurnished. That is only 19.67% of the houses are furnished."
   ]
  },
  {
   "cell_type": "code",
   "execution_count": null,
   "metadata": {
    "ExecuteTime": {
     "end_time": "2019-03-28T15:28:23.303927Z",
     "start_time": "2019-03-28T15:28:22.886904Z"
    },
    "code_folding": [
     0
    ],
    "scrolled": true
   },
   "outputs": [],
   "source": [
    "# Plotting boxplot to detect outliers\n",
    "\n",
    "data=[(go.Box(x=house_df_new['furnished'],name='Furnished',showlegend=True))]\n",
    "plotly.offline.iplot(data)"
   ]
  },
  {
   "cell_type": "markdown",
   "metadata": {},
   "source": [
    "### Inference of Suspected outliers\n",
    "\n",
    "As the number of furnished houses are only 19.67 % of the total population in the database, they have been marked as outliers. Hence, let's evaluate the impact of furnishing against the price."
   ]
  },
  {
   "cell_type": "code",
   "execution_count": null,
   "metadata": {
    "ExecuteTime": {
     "end_time": "2019-03-28T15:28:23.737078Z",
     "start_time": "2019-03-28T15:28:23.308939Z"
    },
    "code_folding": [
     0
    ]
   },
   "outputs": [],
   "source": [
    "# Furnished status versus price - Pairplot visualization\n",
    "sns.pairplot(house_df_new,x_vars='furnished',y_vars='price')"
   ]
  },
  {
   "cell_type": "code",
   "execution_count": null,
   "metadata": {
    "ExecuteTime": {
     "end_time": "2019-03-28T15:28:23.749108Z",
     "start_time": "2019-03-28T15:28:23.740085Z"
    },
    "code_folding": [
     0
    ]
   },
   "outputs": [],
   "source": [
    "# Furnished status versus price - Correlation analysis\n",
    "house_df_new['furnished'].corr(house_df_new['price'])"
   ]
  },
  {
   "cell_type": "markdown",
   "metadata": {},
   "source": [
    "The variable furnished has a moderate positive corelation with the target price. Also, in the pairplot it can be seen that the furnished houses have a higher price. Hence, we would retain all the rows.\n"
   ]
  },
  {
   "cell_type": "markdown",
   "metadata": {},
   "source": [
    "## Variable total_area -> Measure of both living and lot"
   ]
  },
  {
   "cell_type": "code",
   "execution_count": null,
   "metadata": {
    "ExecuteTime": {
     "end_time": "2019-03-28T15:28:23.825312Z",
     "start_time": "2019-03-28T15:28:23.752117Z"
    },
    "code_folding": [
     0
    ],
    "scrolled": true
   },
   "outputs": [],
   "source": [
    "#evaluating the unique entries in the variable list\n",
    "\n",
    "house_df_new['total_area'].sort_values().unique()"
   ]
  },
  {
   "cell_type": "code",
   "execution_count": null,
   "metadata": {
    "ExecuteTime": {
     "end_time": "2019-03-28T15:28:23.899508Z",
     "start_time": "2019-03-28T15:28:23.828318Z"
    },
    "code_folding": [
     0
    ]
   },
   "outputs": [],
   "source": [
    "# evaluating the number of unique entries\n",
    "\n",
    "house_df_new['total_area'].sort_values().unique().shape"
   ]
  },
  {
   "cell_type": "markdown",
   "metadata": {},
   "source": [
    "There are 11163 unique total measure entries in the dataset."
   ]
  },
  {
   "cell_type": "code",
   "execution_count": null,
   "metadata": {
    "ExecuteTime": {
     "end_time": "2019-03-28T15:28:24.183281Z",
     "start_time": "2019-03-28T15:28:23.902517Z"
    },
    "code_folding": [
     0
    ]
   },
   "outputs": [],
   "source": [
    "# Verifying the distribution of the variable\n",
    "\n",
    "sns.distplot(house_df_new['total_area'])\n",
    "plt.show()"
   ]
  },
  {
   "cell_type": "markdown",
   "metadata": {},
   "source": [
    "### Inference of distribution\n",
    "\n",
    "The data has a single distinguishable peak. The histogram shows an abnormaly high number of instances in the total area measures of smaller size, indicating maximum presence of such properties. Also, the data is extremely right skewed indicating presence of outliers."
   ]
  },
  {
   "cell_type": "code",
   "execution_count": null,
   "metadata": {
    "ExecuteTime": {
     "end_time": "2019-03-28T15:28:24.366749Z",
     "start_time": "2019-03-28T15:28:24.186272Z"
    },
    "code_folding": [
     0
    ],
    "scrolled": true
   },
   "outputs": [],
   "source": [
    "# Plotting boxplot to detect outliers\n",
    "\n",
    "data=[(go.Box(x=house_df_new['total_area'],name='total_area',showlegend=True))]\n",
    "plotly.offline.iplot(data)"
   ]
  },
  {
   "cell_type": "markdown",
   "metadata": {},
   "source": [
    "### Inference of Suspected outliers\n",
    "\n",
    "As per boxplot, values > 21942 suggests suspected outliers."
   ]
  },
  {
   "cell_type": "code",
   "execution_count": null,
   "metadata": {
    "ExecuteTime": {
     "end_time": "2019-03-28T15:28:24.388808Z",
     "start_time": "2019-03-28T15:28:24.373768Z"
    },
    "code_folding": []
   },
   "outputs": [],
   "source": [
    "# creating outlier dataframe\n",
    "total_area_outlier=house_df_new[(house_df_new.total_area>21942)]\n",
    "total_area_outlier.shape"
   ]
  },
  {
   "cell_type": "code",
   "execution_count": null,
   "metadata": {
    "ExecuteTime": {
     "end_time": "2019-03-28T15:28:24.480053Z",
     "start_time": "2019-03-28T15:28:24.391816Z"
    }
   },
   "outputs": [],
   "source": [
    "# correlation of total area with price\n",
    "\n",
    "total_area_outlier['total_area'].corr(house_df_new['price'])"
   ]
  },
  {
   "cell_type": "markdown",
   "metadata": {},
   "source": [
    "There are 2419 outlier entries. They have no corelation with price. Hence, they can be removed from the analysis dataframe."
   ]
  },
  {
   "cell_type": "markdown",
   "metadata": {},
   "source": [
    "# Outlier Summary"
   ]
  },
  {
   "cell_type": "markdown",
   "metadata": {},
   "source": [
    "Based on the univariate and bivariate analysis, the following decisions were taken. \n",
    "\n",
    "### Outliers to be removed:\n",
    "\n",
    "1) total_area         (2419 entries)\n",
    "\n",
    "2) lot_measure15      (2194 entries)\n",
    "\n",
    "3) room_bed -> Case B (347 entries)\n",
    "\n",
    "4) lot_measure        (2425 entries)\n",
    "\n",
    "5) long               (256 entries)\n",
    "\n",
    "6) coast              (163 entries)\n",
    "\n",
    "7) condition          (30 entries)\n",
    "\n",
    "8) yr_renovated       (914 entries)\n",
    "\n",
    "9) cid                (entire column)\n",
    "\n",
    "\n",
    "\n",
    "### Outliers decision to be taken based on modelling accuracy:\n",
    "\n"
   ]
  },
  {
   "cell_type": "markdown",
   "metadata": {},
   "source": [
    "# Corelation analysis"
   ]
  },
  {
   "cell_type": "code",
   "execution_count": null,
   "metadata": {
    "ExecuteTime": {
     "end_time": "2019-03-28T15:28:24.580319Z",
     "start_time": "2019-03-28T15:28:24.483059Z"
    }
   },
   "outputs": [],
   "source": [
    "X=house_df_new.drop('price',axis=1)"
   ]
  },
  {
   "cell_type": "code",
   "execution_count": null,
   "metadata": {
    "ExecuteTime": {
     "end_time": "2019-03-28T15:28:24.737761Z",
     "start_time": "2019-03-28T15:28:24.583326Z"
    }
   },
   "outputs": [],
   "source": [
    "X_corr=X.corr()"
   ]
  },
  {
   "cell_type": "code",
   "execution_count": null,
   "metadata": {
    "ExecuteTime": {
     "end_time": "2019-03-28T15:28:28.100674Z",
     "start_time": "2019-03-28T15:28:24.740744Z"
    }
   },
   "outputs": [],
   "source": [
    "fig, ax = plt.subplots(figsize=(20,20))   \n",
    "sns.heatmap(X_corr,annot=True)"
   ]
  },
  {
   "cell_type": "markdown",
   "metadata": {},
   "source": [
    "## Inference\n",
    "\n",
    "Iot_measure and total_area are very strongly corelated. Likewise ceiling measure and living measure are highly corelated. As there are strong positive corelations between some of the input variables, we can do a PCA to reduce the dimensions"
   ]
  },
  {
   "cell_type": "markdown",
   "metadata": {},
   "source": [
    "# Unsupervised learning to evaluate the number of clusters using k means clustering - Base model"
   ]
  },
  {
   "cell_type": "code",
   "execution_count": null,
   "metadata": {
    "ExecuteTime": {
     "end_time": "2019-03-28T15:28:54.735241Z",
     "start_time": "2019-03-28T15:28:28.104685Z"
    }
   },
   "outputs": [],
   "source": [
    "house_df_base=house_df_new.copy()\n",
    "attributes = house_df_base.drop('price',axis=1)\n",
    "\n",
    "#Finding optimal no. of clusters\n",
    "from scipy.spatial.distance import cdist\n",
    "from sklearn.cluster import KMeans\n",
    "clusters=range(1,20)\n",
    "meanDistortions=[]\n",
    "\n",
    "for k in clusters:\n",
    "    model=KMeans(n_clusters=k)\n",
    "    model.fit(attributes)\n",
    "    prediction=model.predict(attributes)\n",
    "    meanDistortions.append(sum(np.min(cdist(attributes, model.cluster_centers_, 'euclidean'), axis=1)) / attributes.shape[0])\n",
    "\n",
    "print (meanDistortions)    \n",
    "plt.plot(clusters, meanDistortions, 'bx-')\n",
    "plt.xlabel('k')\n",
    "plt.ylabel('Average distortion')\n",
    "plt.title('Selecting k with the Elbow Method')\n"
   ]
  },
  {
   "cell_type": "code",
   "execution_count": null,
   "metadata": {
    "ExecuteTime": {
     "end_time": "2019-03-28T15:28:56.083823Z",
     "start_time": "2019-03-28T15:28:54.740251Z"
    }
   },
   "outputs": [],
   "source": [
    "#  K = 4\n",
    "final_model=KMeans()\n",
    "final_model.fit(attributes)\n",
    "prediction=final_model.predict(attributes)\n",
    "\n",
    "#Append the prediction \n",
    "house_df_base[\"GROUP\"] = prediction\n",
    "print(\"Groups Assigned : \\n\")\n",
    "house_df_base[[\"price\", \"GROUP\"]].head(5)"
   ]
  },
  {
   "cell_type": "code",
   "execution_count": null,
   "metadata": {
    "ExecuteTime": {
     "end_time": "2019-03-28T15:35:09.516468Z",
     "start_time": "2019-03-28T15:28:56.087833Z"
    }
   },
   "outputs": [],
   "source": [
    "sns.pairplot(house_df_base,hue='GROUP',size=3)"
   ]
  },
  {
   "cell_type": "code",
   "execution_count": null,
   "metadata": {
    "ExecuteTime": {
     "end_time": "2019-03-28T15:35:10.906162Z",
     "start_time": "2019-03-28T15:35:09.607709Z"
    }
   },
   "outputs": [],
   "source": [
    "house_df_base.groupby(by='GROUP',axis=0).count()"
   ]
  },
  {
   "cell_type": "markdown",
   "metadata": {},
   "source": [
    "The group 0 and 2 contain similar number of samples, however, in group 3 there is very low number of samples.\n",
    "\n",
    "There are total 21613 entities. Hence, let's upsample and downsample among the 4 groups to a mean sample size of 5404 samples each."
   ]
  },
  {
   "cell_type": "code",
   "execution_count": null,
   "metadata": {
    "ExecuteTime": {
     "end_time": "2019-03-28T15:35:10.930225Z",
     "start_time": "2019-03-28T15:35:10.918197Z"
    }
   },
   "outputs": [],
   "source": [
    "#!pip install imbalanced-learn --user"
   ]
  },
  {
   "cell_type": "code",
   "execution_count": null,
   "metadata": {
    "ExecuteTime": {
     "end_time": "2019-03-28T15:35:11.047447Z",
     "start_time": "2019-03-28T15:35:10.933233Z"
    }
   },
   "outputs": [],
   "source": [
    "#from imblearn.over_sampling import SMOTE"
   ]
  },
  {
   "cell_type": "code",
   "execution_count": null,
   "metadata": {
    "ExecuteTime": {
     "end_time": "2019-03-28T15:35:11.605243Z",
     "start_time": "2019-03-28T15:35:11.097829Z"
    },
    "scrolled": true
   },
   "outputs": [],
   "source": [
    "# outliers to be removed - grouping and creating a dataframe\n",
    "\n",
    "house_df_out1=house_df_new.copy()\n",
    "house_df_out1.info()"
   ]
  },
  {
   "cell_type": "code",
   "execution_count": null,
   "metadata": {
    "ExecuteTime": {
     "end_time": "2019-03-28T15:35:11.922448Z",
     "start_time": "2019-03-28T15:35:11.616262Z"
    }
   },
   "outputs": [],
   "source": [
    "# outlier strategy 1\n",
    "# droping of rows containing the index of outlier elements.\n",
    "house_df_out1=house_df_out1.drop(total_area_outlier['cid'].index|lot_meas15_outlier['cid'].index|\n",
    "                                 liv_meas15_outlier['cid'].index|room_bed_outlier_1['cid'].index|\n",
    "                                 lot_measure_outlier['cid'].index|long_outlier['cid'].index|\n",
    "                                 coast_outlier['cid'].index|condition_outlier['cid'].index|\n",
    "                                 yr_renovated_outlier['cid'].index,axis=0)\n",
    "# dropping 'cid' from the dataframe\n",
    "house_df_out1=house_df_out1.drop('cid',axis=1)\n",
    "house_df_out1.info()"
   ]
  },
  {
   "cell_type": "code",
   "execution_count": null,
   "metadata": {
    "ExecuteTime": {
     "end_time": "2019-03-28T15:35:12.134011Z",
     "start_time": "2019-03-28T15:35:11.926459Z"
    }
   },
   "outputs": [],
   "source": [
    "# Outlier Strategy 2\n",
    "# creating new dataframe with suspected outliers to be removed based on model accuracy\n",
    "\n",
    "house_df_out2=house_df_new.copy()\n",
    "house_df_out2=house_df_out2.drop(total_area_outlier['cid'].index|lot_meas15_outlier['cid'].index|\n",
    "                                 liv_meas15_outlier['cid'].index|room_bed_outlier_1['cid'].index|\n",
    "                                 lot_measure_outlier['cid'].index|long_outlier['cid'].index|\n",
    "                                 coast_outlier['cid'].index|condition_outlier['cid'].index|\n",
    "                                 yr_renovated_outlier['cid'].index|room_bath_outlier['cid'].index|\n",
    "                                 room_bed_outlier['cid'].index|living_measure_outlier['cid'].index|\n",
    "                                 sight_outlier['cid'].index|quality_outlier['cid'].index|\n",
    "                                 room_bath_outlier['cid'].index,axis=0)\n",
    "# dropping 'cid' from the dataframe\n",
    "house_df_out2=house_df_out2.drop('cid',axis=1)\n",
    "house_df_out2.info()\n"
   ]
  },
  {
   "cell_type": "markdown",
   "metadata": {},
   "source": [
    "On the outlier treatment strategy 1, a total 4,233 entities have been removed from the analysis dataframe. \n",
    "\n",
    "The outlier treatment strategy 2, removes an addition of 2,200 entities have been removed. Initially for the analysis we'll use only outlier treatment strategy 1."
   ]
  },
  {
   "cell_type": "code",
   "execution_count": null,
   "metadata": {
    "ExecuteTime": {
     "end_time": "2019-03-28T15:35:12.267366Z",
     "start_time": "2019-03-28T15:35:12.138021Z"
    }
   },
   "outputs": [],
   "source": [
    "# With reference to univariate inferences, converting binomial datatypes(coast, furnished) and date datatypes (sold_year,sold_month,yr_renovated) into categorical variable by one-hot coding\n",
    "\n",
    "house_df_out2=pd.get_dummies(house_df_out2, columns= ['sold_year','sold_month','yr_renovated','coast','furnished'])\n",
    "                                                                   "
   ]
  },
  {
   "cell_type": "code",
   "execution_count": null,
   "metadata": {
    "ExecuteTime": {
     "end_time": "2019-03-28T15:35:12.342565Z",
     "start_time": "2019-03-28T15:35:12.271374Z"
    }
   },
   "outputs": [],
   "source": [
    "house_df_out2.info()"
   ]
  },
  {
   "cell_type": "code",
   "execution_count": null,
   "metadata": {
    "ExecuteTime": {
     "end_time": "2019-03-28T15:35:12.466897Z",
     "start_time": "2019-03-28T15:35:12.347577Z"
    }
   },
   "outputs": [],
   "source": [
    "house_df_out2.head(5)"
   ]
  },
  {
   "cell_type": "markdown",
   "metadata": {},
   "source": [
    "# Base Modelling - Benchmark`"
   ]
  },
  {
   "cell_type": "code",
   "execution_count": null,
   "metadata": {
    "ExecuteTime": {
     "end_time": "2019-03-28T15:35:12.797775Z",
     "start_time": "2019-03-28T15:35:12.470907Z"
    }
   },
   "outputs": [],
   "source": [
    "# input and target variable definition\n",
    "\n",
    "X_base=house_df_new.drop('price',axis=1)\n",
    "y_base=house_df_new['price']\n",
    "print(\"Base X set size:\", X_base.shape)\n",
    "print(\"Base Y set size:\",y_base.shape)\n",
    "from sklearn.model_selection import train_test_split\n",
    "X_train_base, X_test_base, y_train_base, y_test_base = train_test_split(X_base, y_base, test_size=0.30, random_state=10)\n",
    "print(\"X_train set size:\", X_train_base.shape)\n",
    "print(\"Y_train set size:\",y_train_base.shape)\n",
    "print(\"X_train set size:\", X_test_base.shape)\n",
    "print(\"Y_train set size:\",y_test_base.shape)\n"
   ]
  },
  {
   "cell_type": "markdown",
   "metadata": {},
   "source": [
    "# Linear Regression - base model"
   ]
  },
  {
   "cell_type": "code",
   "execution_count": null,
   "metadata": {
    "ExecuteTime": {
     "end_time": "2019-03-28T15:35:12.822843Z",
     "start_time": "2019-03-28T15:35:12.801786Z"
    }
   },
   "outputs": [],
   "source": [
    "# Linear Regression Model \n",
    "from sklearn.linear_model import LinearRegression"
   ]
  },
  {
   "cell_type": "code",
   "execution_count": null,
   "metadata": {
    "ExecuteTime": {
     "end_time": "2019-03-28T15:35:13.817167Z",
     "start_time": "2019-03-28T15:35:12.827855Z"
    }
   },
   "outputs": [],
   "source": [
    "base_regression_model = LinearRegression()\n",
    "base_regression_model.fit(X_train_base, y_train_base)"
   ]
  },
  {
   "cell_type": "code",
   "execution_count": null,
   "metadata": {
    "ExecuteTime": {
     "end_time": "2019-03-28T15:35:14.017699Z",
     "start_time": "2019-03-28T15:35:13.821177Z"
    }
   },
   "outputs": [],
   "source": [
    "base_reg_train_acc=round((base_regression_model.score(X_train_base,y_train_base)*100),2)\n",
    "print ('Train model accuracy:' ,base_reg_train_acc,'%')"
   ]
  },
  {
   "cell_type": "code",
   "execution_count": null,
   "metadata": {
    "ExecuteTime": {
     "end_time": "2019-03-28T15:35:14.034743Z",
     "start_time": "2019-03-28T15:35:14.021709Z"
    }
   },
   "outputs": [],
   "source": [
    "base_reg_test_acc= round((base_regression_model.score(X_test_base,y_test_base)*100),2)\n",
    "print ('Test model accuracy:', base_reg_test_acc,'%')"
   ]
  },
  {
   "cell_type": "markdown",
   "metadata": {},
   "source": [
    "With base modeling, Linear Regression yields an accuracy of 71%"
   ]
  },
  {
   "cell_type": "code",
   "execution_count": null,
   "metadata": {
    "ExecuteTime": {
     "end_time": "2019-03-28T15:35:14.155066Z",
     "start_time": "2019-03-28T15:35:14.038754Z"
    }
   },
   "outputs": [],
   "source": [
    "# create a panda summary dataframe of results\n",
    "#data=['Base model','Linear regression',base_reg_train_acc,base_reg_test_acc]\n",
    "#data\n",
    "data = {'Strategy': ['Base model'], 'Modelling method': ['Linear regression'],'Train model accuracy': \n",
    "     [base_reg_train_acc],'Test model':[base_reg_test_acc]}\n",
    "acc_df = pd.DataFrame(data)\n",
    "acc_df"
   ]
  },
  {
   "cell_type": "markdown",
   "metadata": {},
   "source": [
    "# Decision Tree Regression - base model"
   ]
  },
  {
   "cell_type": "code",
   "execution_count": null,
   "metadata": {
    "ExecuteTime": {
     "end_time": "2019-03-28T15:35:14.799778Z",
     "start_time": "2019-03-28T15:35:14.158073Z"
    }
   },
   "outputs": [],
   "source": [
    "# Base Model - Decision Tree Regression (with base dataframe)\n",
    "\n",
    "# Decision Tree Regression model\n",
    "\n",
    "from sklearn.tree import DecisionTreeRegressor\n",
    "\n",
    "base_dt_model = DecisionTreeRegressor(max_depth=12,random_state=100)\n",
    "# depth of 12 has been considered since the number of clusters is 12 in the dataframe\n",
    "base_dt_model.fit(X_train_base,y_train_base)"
   ]
  },
  {
   "cell_type": "code",
   "execution_count": null,
   "metadata": {
    "ExecuteTime": {
     "end_time": "2019-03-28T15:35:14.897034Z",
     "start_time": "2019-03-28T15:35:14.803788Z"
    }
   },
   "outputs": [],
   "source": [
    "base_dt_train_acc=round((base_dt_model.score(X_train_base,y_train_base)*100),2)\n",
    "print ('Train model accuracy:' ,base_dt_train_acc,'%')"
   ]
  },
  {
   "cell_type": "code",
   "execution_count": null,
   "metadata": {
    "ExecuteTime": {
     "end_time": "2019-03-28T15:35:14.963214Z",
     "start_time": "2019-03-28T15:35:14.901047Z"
    }
   },
   "outputs": [],
   "source": [
    "base_dt_test_acc= round((base_dt_model.score(X_test_base,y_test_base)*100),2)\n",
    "print ('Test model accuracy:', base_dt_test_acc,'%')"
   ]
  },
  {
   "cell_type": "markdown",
   "metadata": {},
   "source": [
    "#### With base modeling, Decision Tree Regression yields an accuracy of 73.5%"
   ]
  },
  {
   "cell_type": "code",
   "execution_count": null,
   "metadata": {
    "ExecuteTime": {
     "end_time": "2019-03-28T15:35:15.056459Z",
     "start_time": "2019-03-28T15:35:14.995297Z"
    }
   },
   "outputs": [],
   "source": [
    "# append to accuracy summary table\n",
    "row_add=['Base model','Decision Tree Regression',base_dt_train_acc,base_dt_test_acc]\n",
    "np_array=acc_df.values\n",
    "np_array=np.vstack((np_array,row_add))\n",
    "acc_df=pd.DataFrame(np_array)\n",
    "acc_df"
   ]
  },
  {
   "cell_type": "markdown",
   "metadata": {},
   "source": [
    "# Random Forest Regression - Base model"
   ]
  },
  {
   "cell_type": "code",
   "execution_count": null,
   "metadata": {
    "ExecuteTime": {
     "end_time": "2019-03-28T15:36:02.955832Z",
     "start_time": "2019-03-28T15:36:01.514001Z"
    },
    "scrolled": true
   },
   "outputs": [],
   "source": [
    "# Random Forest Regression\n",
    "\n",
    "from sklearn.ensemble import RandomForestRegressor\n",
    "base_rtr_model=RandomForestRegressor(max_depth=12,random_state=100)\n",
    "# depth of 12 has been considered since the number of clusters is 12 in the dataframe\n",
    "base_rtr_model.fit(X_train_base,y_train_base)"
   ]
  },
  {
   "cell_type": "code",
   "execution_count": null,
   "metadata": {
    "ExecuteTime": {
     "end_time": "2019-03-28T15:36:13.800683Z",
     "start_time": "2019-03-28T15:36:13.762581Z"
    }
   },
   "outputs": [],
   "source": [
    "base_rtr_train_acc=round((base_rtr_model.score(X_train_base,y_train_base)*100),2)\n",
    "print ('Train model accuracy:' ,base_rtr_train_acc,'%')"
   ]
  },
  {
   "cell_type": "code",
   "execution_count": null,
   "metadata": {
    "ExecuteTime": {
     "end_time": "2019-03-28T15:36:14.534065Z",
     "start_time": "2019-03-28T15:36:14.511031Z"
    }
   },
   "outputs": [],
   "source": [
    "base_rtr_test_acc= round((base_rtr_model.score(X_test_base,y_test_base)*100),2)\n",
    "print ('Test model accuracy:', base_rtr_test_acc,'%')"
   ]
  },
  {
   "cell_type": "markdown",
   "metadata": {},
   "source": [
    "#### With base modeling, Random forest Regression yields an accuracy of 87%"
   ]
  },
  {
   "cell_type": "code",
   "execution_count": null,
   "metadata": {
    "ExecuteTime": {
     "end_time": "2019-03-28T15:36:16.696030Z",
     "start_time": "2019-03-28T15:36:16.671967Z"
    }
   },
   "outputs": [],
   "source": [
    "# append to accuracy summary table\n",
    "row_add=['Base model','Random Forest Regression',base_rtr_train_acc,base_rtr_test_acc]\n",
    "np_array=acc_df.values\n",
    "np_array=np.vstack((np_array,row_add))\n",
    "acc_df=pd.DataFrame(np_array)\n",
    "acc_df"
   ]
  },
  {
   "cell_type": "markdown",
   "metadata": {},
   "source": [
    "# Normalizing & Outlier Treated [Strategy 1] Dataframes - Modelling"
   ]
  },
  {
   "cell_type": "code",
   "execution_count": null,
   "metadata": {
    "ExecuteTime": {
     "end_time": "2019-03-28T15:36:19.223128Z",
     "start_time": "2019-03-28T15:36:18.867993Z"
    }
   },
   "outputs": [],
   "source": [
    "# Normalizing the dataframe to evaluate the spread across the elements in a similar fashion\n",
    "\n",
    "from scipy.stats import zscore\n",
    "\n",
    "house_scaled_df_out_1 = house_df_out1.apply(zscore)\n",
    "house_scaled_df_out_1.info()"
   ]
  },
  {
   "cell_type": "code",
   "execution_count": null,
   "metadata": {
    "ExecuteTime": {
     "end_time": "2019-03-28T15:36:19.688366Z",
     "start_time": "2019-03-28T15:36:19.424674Z"
    },
    "scrolled": true
   },
   "outputs": [],
   "source": [
    "house_scaled_df_out_1=house_scaled_df_out_1.fillna(0)\n",
    "house_scaled_df_out_1[['yr_renovated','coast']].describe()"
   ]
  },
  {
   "cell_type": "code",
   "execution_count": null,
   "metadata": {
    "ExecuteTime": {
     "end_time": "2019-03-28T15:36:19.945083Z",
     "start_time": "2019-03-28T15:36:19.923025Z"
    },
    "scrolled": true
   },
   "outputs": [],
   "source": [
    "#convert the numpy array back into a dataframe \n",
    "\n",
    "house_scaled_df_out_1 = pd.DataFrame(house_scaled_df_out_1, columns=house_df_out1.columns)\n",
    "#Evaluating the scaled dataframe\n",
    "\n",
    "house_scaled_df_out_1.shape"
   ]
  },
  {
   "cell_type": "code",
   "execution_count": null,
   "metadata": {
    "ExecuteTime": {
     "end_time": "2019-03-28T15:36:20.271120Z",
     "start_time": "2019-03-28T15:36:20.152807Z"
    }
   },
   "outputs": [],
   "source": [
    "X_out_1=house_scaled_df_out_1.drop('price',axis=1)\n",
    "y_out_1=house_scaled_df_out_1['price']\n",
    "print(\"Out 1 X set size:\", X_out_1.shape)\n",
    "print(\"Out 1 Y set size:\",y_out_1.shape)\n",
    "X_train_out_1, X_test_out_1, y_train_out_1, y_test_out_1 = train_test_split(X_out_1, y_out_1, test_size=0.30, random_state=10)\n",
    "print(\"Out 1 X_train set size:\", X_train_out_1.shape)\n",
    "print(\"Out 1 Y_train set size:\",y_train_out_1.shape)\n",
    "print(\"Out 1 X_train set size:\", X_test_out_1.shape)\n",
    "print(\"Out 1 Y_train set size:\",y_test_out_1.shape)"
   ]
  },
  {
   "cell_type": "markdown",
   "metadata": {},
   "source": [
    "# Linear Regression - Outlier Strategy 1 model"
   ]
  },
  {
   "cell_type": "code",
   "execution_count": null,
   "metadata": {
    "ExecuteTime": {
     "end_time": "2019-03-28T15:36:20.743137Z",
     "start_time": "2019-03-28T15:36:20.582712Z"
    }
   },
   "outputs": [],
   "source": [
    "out_1_regression_model = LinearRegression()\n",
    "out_1_regression_model.fit(X_train_out_1, y_train_out_1)"
   ]
  },
  {
   "cell_type": "code",
   "execution_count": null,
   "metadata": {
    "ExecuteTime": {
     "end_time": "2019-03-28T15:36:20.839392Z",
     "start_time": "2019-03-28T15:36:20.748152Z"
    }
   },
   "outputs": [],
   "source": [
    "out_1_reg_train_acc=round((out_1_regression_model.score(X_train_out_1,y_train_out_1)*100),2)\n",
    "print ('Train model accuracy:' ,out_1_reg_train_acc,'%')"
   ]
  },
  {
   "cell_type": "code",
   "execution_count": null,
   "metadata": {
    "ExecuteTime": {
     "end_time": "2019-03-28T15:36:21.014861Z",
     "start_time": "2019-03-28T15:36:20.970742Z"
    }
   },
   "outputs": [],
   "source": [
    "out_1_reg_test_acc= round((out_1_regression_model.score(X_test_out_1,y_test_out_1)*100),2)\n",
    "print ('Test model accuracy:', out_1_reg_test_acc,'%')"
   ]
  },
  {
   "cell_type": "markdown",
   "metadata": {},
   "source": [
    "With base modeling, Linear Regression yields an accuracy of 69%"
   ]
  },
  {
   "cell_type": "code",
   "execution_count": null,
   "metadata": {
    "ExecuteTime": {
     "end_time": "2019-03-28T15:36:21.384845Z",
     "start_time": "2019-03-28T15:36:21.346742Z"
    }
   },
   "outputs": [],
   "source": [
    "# append to accuracy summary table\n",
    "row_add=['Out 1 model','Linear Regression',out_1_reg_train_acc,out_1_reg_test_acc]\n",
    "np_array=acc_df.values\n",
    "np_array=np.vstack((np_array,row_add))\n",
    "acc_df=pd.DataFrame(np_array)\n",
    "acc_df"
   ]
  },
  {
   "cell_type": "markdown",
   "metadata": {},
   "source": [
    "# Decision Tree Regression - Outlier Strategy 1 model"
   ]
  },
  {
   "cell_type": "code",
   "execution_count": null,
   "metadata": {
    "ExecuteTime": {
     "end_time": "2019-03-28T15:36:21.869129Z",
     "start_time": "2019-03-28T15:36:21.690684Z"
    }
   },
   "outputs": [],
   "source": [
    "# Decision Tree Regression model\n",
    "\n",
    "out_1_dt_model = DecisionTreeRegressor(max_depth=12,random_state=100)\n",
    "# depth of 12 has been considered since the number of clusters is 12 in the dataframe\n",
    "out_1_dt_model.fit(X_train_out_1,y_train_out_1)"
   ]
  },
  {
   "cell_type": "code",
   "execution_count": null,
   "metadata": {
    "ExecuteTime": {
     "end_time": "2019-03-28T15:36:21.910239Z",
     "start_time": "2019-03-28T15:36:21.899210Z"
    }
   },
   "outputs": [],
   "source": [
    "out_1_dt_train_acc=round((out_1_dt_model.score(X_train_out_1,y_train_out_1)*100),2)\n",
    "print ('Train model accuracy:' ,out_1_dt_train_acc,'%')"
   ]
  },
  {
   "cell_type": "code",
   "execution_count": null,
   "metadata": {
    "ExecuteTime": {
     "end_time": "2019-03-28T15:36:22.074676Z",
     "start_time": "2019-03-28T15:36:22.064652Z"
    }
   },
   "outputs": [],
   "source": [
    "out_1_dt_test_acc= round((out_1_dt_model.score(X_test_out_1,y_test_out_1)*100),2)\n",
    "print ('Test model accuracy:', out_1_dt_test_acc,'%')"
   ]
  },
  {
   "cell_type": "markdown",
   "metadata": {},
   "source": [
    "#### With Outlier 1 strategy modeling, Decision Tree Regression yields an accuracy of 76.5%"
   ]
  },
  {
   "cell_type": "code",
   "execution_count": null,
   "metadata": {
    "ExecuteTime": {
     "end_time": "2019-03-28T15:36:22.462901Z",
     "start_time": "2019-03-28T15:36:22.429813Z"
    }
   },
   "outputs": [],
   "source": [
    "# append to accuracy summary table\n",
    "row_add=['Out 1 model','Decision Tree Regression',out_1_dt_train_acc,out_1_dt_test_acc]\n",
    "np_array=acc_df.values\n",
    "np_array=np.vstack((np_array,row_add))\n",
    "acc_df=pd.DataFrame(np_array)\n",
    "acc_df"
   ]
  },
  {
   "cell_type": "markdown",
   "metadata": {},
   "source": [
    "# Random Forest Regression - Outlier 1 strategy model"
   ]
  },
  {
   "cell_type": "code",
   "execution_count": null,
   "metadata": {
    "ExecuteTime": {
     "end_time": "2019-03-28T15:36:23.925017Z",
     "start_time": "2019-03-28T15:36:22.799022Z"
    },
    "scrolled": true
   },
   "outputs": [],
   "source": [
    "# Random Forest Regression\n",
    "\n",
    "from sklearn.ensemble import RandomForestRegressor\n",
    "out_1_rtr_model=RandomForestRegressor(max_depth=12,random_state=100)\n",
    "# depth of 12 has been considered since the number of clusters is 12 in the dataframe\n",
    "out_1_rtr_model.fit(X_train_out_1,y_train_out_1)"
   ]
  },
  {
   "cell_type": "code",
   "execution_count": null,
   "metadata": {
    "ExecuteTime": {
     "end_time": "2019-03-28T15:36:23.962113Z",
     "start_time": "2019-03-28T15:36:23.929025Z"
    }
   },
   "outputs": [],
   "source": [
    "out_1_rtr_train_acc=round((out_1_rtr_model.score(X_train_out_1,y_train_out_1)*100),2)\n",
    "print ('Train model accuracy:' ,out_1_rtr_train_acc,'%')"
   ]
  },
  {
   "cell_type": "code",
   "execution_count": null,
   "metadata": {
    "ExecuteTime": {
     "end_time": "2019-03-28T15:36:24.050348Z",
     "start_time": "2019-03-28T15:36:23.966127Z"
    }
   },
   "outputs": [],
   "source": [
    "out_1_rtr_test_acc= round((out_1_rtr_model.score(X_test_out_1,y_test_out_1)*100),2)\n",
    "print ('Test model accuracy:', out_1_rtr_test_acc,'%')"
   ]
  },
  {
   "cell_type": "markdown",
   "metadata": {},
   "source": [
    "#### With base modeling, Random forest Regression yields an accuracy of 86.5%"
   ]
  },
  {
   "cell_type": "code",
   "execution_count": null,
   "metadata": {
    "ExecuteTime": {
     "end_time": "2019-03-28T15:36:24.122539Z",
     "start_time": "2019-03-28T15:36:24.054359Z"
    }
   },
   "outputs": [],
   "source": [
    "# append to accuracy summary table\n",
    "row_add=['Out 1 model','Random Forest Regression',out_1_rtr_train_acc,out_1_rtr_test_acc]\n",
    "np_array=acc_df.values\n",
    "np_array=np.vstack((np_array,row_add))\n",
    "acc_df=pd.DataFrame(np_array)\n",
    "acc_df"
   ]
  },
  {
   "cell_type": "markdown",
   "metadata": {},
   "source": [
    "# KNN Regression - Outlier Strategy 1 model"
   ]
  },
  {
   "cell_type": "code",
   "execution_count": null,
   "metadata": {
    "ExecuteTime": {
     "end_time": "2019-03-28T15:36:24.218796Z",
     "start_time": "2019-03-28T15:36:24.125548Z"
    }
   },
   "outputs": [],
   "source": [
    "from sklearn import neighbors\n",
    "from sklearn.metrics import mean_squared_error \n",
    "from math import sqrt"
   ]
  },
  {
   "cell_type": "code",
   "execution_count": null,
   "metadata": {
    "ExecuteTime": {
     "end_time": "2019-03-28T15:37:19.312523Z",
     "start_time": "2019-03-28T15:36:24.221806Z"
    }
   },
   "outputs": [],
   "source": [
    "rmse_val = [] #to store rmse values for different k\n",
    "for K in range(20):\n",
    "    K = K+1\n",
    "    model = neighbors.KNeighborsRegressor(n_neighbors = K)\n",
    "\n",
    "    model.fit(X_train_out_1, y_train_out_1)  #fit the model\n",
    "    pred=model.predict(X_test_out_1) #make prediction on test set\n",
    "    error = sqrt(mean_squared_error(y_test_out_1,pred)) #calculate rmse\n",
    "    rmse_val.append(error) #store rmse values\n",
    "    print('RMSE value for k= ' , K , 'is:', error)"
   ]
  },
  {
   "cell_type": "code",
   "execution_count": null,
   "metadata": {
    "ExecuteTime": {
     "end_time": "2019-03-28T15:37:24.013997Z",
     "start_time": "2019-03-28T15:37:19.317534Z"
    }
   },
   "outputs": [],
   "source": [
    "#plotting the rmse values against k values\n",
    "curve = pd.DataFrame(rmse_val) #elbow curve \n",
    "curve.plot()"
   ]
  },
  {
   "cell_type": "markdown",
   "metadata": {},
   "source": [
    "The knee appears at a k value of 7"
   ]
  },
  {
   "cell_type": "code",
   "execution_count": null,
   "metadata": {
    "ExecuteTime": {
     "end_time": "2019-03-28T15:37:24.135293Z",
     "start_time": "2019-03-28T15:37:24.016978Z"
    }
   },
   "outputs": [],
   "source": [
    "out_1_knn_model = neighbors.KNeighborsRegressor(n_neighbors = 7)\n",
    "out_1_knn_model.fit(X_train_out_1,y_train_out_1)"
   ]
  },
  {
   "cell_type": "code",
   "execution_count": null,
   "metadata": {
    "ExecuteTime": {
     "end_time": "2019-03-28T15:37:29.605834Z",
     "start_time": "2019-03-28T15:37:24.139304Z"
    }
   },
   "outputs": [],
   "source": [
    "out_1_knn_train_acc=round((out_1_knn_model.score(X_train_out_1,y_train_out_1)*100),2)\n",
    "print ('Train model accuracy:' ,out_1_knn_train_acc,'%')"
   ]
  },
  {
   "cell_type": "code",
   "execution_count": null,
   "metadata": {
    "ExecuteTime": {
     "end_time": "2019-03-28T15:37:32.222790Z",
     "start_time": "2019-03-28T15:37:29.618869Z"
    }
   },
   "outputs": [],
   "source": [
    "out_1_knn_test_acc= round((out_1_knn_model.score(X_test_out_1,y_test_out_1)*100),2)\n",
    "print ('Test model accuracy:', out_1_knn_test_acc,'%')"
   ]
  },
  {
   "cell_type": "markdown",
   "metadata": {},
   "source": [
    "#### With outlier 1 modeling, kNN Regression yields an accuracy of 75.5%"
   ]
  },
  {
   "cell_type": "code",
   "execution_count": null,
   "metadata": {
    "ExecuteTime": {
     "end_time": "2019-03-28T15:37:32.252869Z",
     "start_time": "2019-03-28T15:37:32.226810Z"
    }
   },
   "outputs": [],
   "source": [
    "# append to accuracy summary table\n",
    "row_add=['Out 1 model','kNN Regression',out_1_knn_train_acc,out_1_knn_test_acc]\n",
    "np_array=acc_df.values\n",
    "np_array=np.vstack((np_array,row_add))\n",
    "acc_df=pd.DataFrame(np_array)\n",
    "acc_df"
   ]
  },
  {
   "cell_type": "markdown",
   "metadata": {},
   "source": [
    "## Hyperparameter tuning"
   ]
  },
  {
   "cell_type": "markdown",
   "metadata": {},
   "source": [
    "For Model testing we have considered 70:30 data on Random Forest Regression since it has the best accuracy."
   ]
  },
  {
   "cell_type": "code",
   "execution_count": null,
   "metadata": {
    "ExecuteTime": {
     "end_time": "2019-03-28T15:44:38.865954Z",
     "start_time": "2019-03-28T15:44:38.782740Z"
    }
   },
   "outputs": [],
   "source": [
    "from sklearn.model_selection import RandomizedSearchCV\n",
    "\n",
    "from pprint import pprint\n",
    "\n",
    "# Number of trees in random forest\n",
    "n_estimators = [int(x) for x in np.linspace(start = 1, stop = 100, num = 10)]\n",
    "# Number of features to consider at every split\n",
    "max_features = ['auto', 'sqrt']\n",
    "# Maximum number of levels in tree\n",
    "max_depth = [int(x) for x in np.linspace(10, 110, num = 11)]\n",
    "max_depth.append(None)\n",
    "# Minimum number of samples required to split a node\n",
    "min_samples_split = [2, 5, 10]\n",
    "# Minimum number of samples required at each leaf node\n",
    "min_samples_leaf = [1, 2, 4]\n",
    "# Method of selecting samples for training each tree\n",
    "bootstrap = [True, False]\n",
    "\n",
    "# Create the random grid\n",
    "random_grid = {'n_estimators': n_estimators,\n",
    "               'max_features': max_features,\n",
    "               'max_depth': max_depth,\n",
    "               'min_samples_split': min_samples_split,\n",
    "               'min_samples_leaf': min_samples_leaf,\n",
    "               'bootstrap': bootstrap}\n",
    "\n",
    "pprint(random_grid)"
   ]
  },
  {
   "cell_type": "code",
   "execution_count": null,
   "metadata": {
    "ExecuteTime": {
     "end_time": "2019-03-28T15:53:25.145440Z",
     "start_time": "2019-03-28T15:47:00.766279Z"
    }
   },
   "outputs": [],
   "source": [
    "# Use the random grid to search for best hyperparameters\n",
    "# First create the base model to tune\n",
    "rf = RandomForestRegressor(random_state = 42)\n",
    "# Random search of parameters, using 3 fold cross validation, \n",
    "# search across 100 different combinations, and use all available cores\n",
    "rf_random = RandomizedSearchCV(estimator=rf, param_distributions=random_grid,\n",
    "                              n_iter = 100, scoring='neg_mean_absolute_error', \n",
    "                              cv = 3, verbose=2, random_state=42, n_jobs=-1,\n",
    "                              return_train_score=True)\n",
    "\n",
    "# Fit the random search model\n",
    "rf_random.fit(X_train_out_1, y_train_out_1);"
   ]
  },
  {
   "cell_type": "code",
   "execution_count": null,
   "metadata": {
    "ExecuteTime": {
     "end_time": "2019-03-28T15:53:56.067499Z",
     "start_time": "2019-03-28T15:53:55.895067Z"
    }
   },
   "outputs": [],
   "source": [
    "rf_random.best_params_"
   ]
  },
  {
   "cell_type": "code",
   "execution_count": null,
   "metadata": {
    "ExecuteTime": {
     "end_time": "2019-03-28T15:59:12.105747Z",
     "start_time": "2019-03-28T15:58:58.429163Z"
    }
   },
   "outputs": [],
   "source": [
    "randomcv_rtr_model=RandomForestRegressor(n_estimators=100,min_samples_split=2,min_samples_leaf=2,max_features='auto',\n",
    "                                         max_depth=90,random_state=100,bootstrap='True')\n",
    "# depth of 12 has been considered since the number of clusters is 12 in the dataframe\n",
    "randomcv_rtr_model.fit(X_train_out_1,y_train_out_1)"
   ]
  },
  {
   "cell_type": "code",
   "execution_count": null,
   "metadata": {
    "ExecuteTime": {
     "end_time": "2019-03-28T15:59:57.646153Z",
     "start_time": "2019-03-28T15:59:57.154846Z"
    }
   },
   "outputs": [],
   "source": [
    "randomcv_rtr_train_acc=round((randomcv_rtr_model.score(X_train_out_1,y_train_out_1)*100),2)\n",
    "print ('Train model accuracy:' ,randomcv_rtr_train_acc,'%')"
   ]
  },
  {
   "cell_type": "code",
   "execution_count": null,
   "metadata": {
    "ExecuteTime": {
     "end_time": "2019-03-28T16:00:37.659281Z",
     "start_time": "2019-03-28T16:00:37.495873Z"
    }
   },
   "outputs": [],
   "source": [
    "randomcv_rtr_test_acc= round((randomcv_rtr_model.score(X_test_out_1,y_test_out_1)*100),2)\n",
    "print ('Test model accuracy:', randomcv_rtr_test_acc,'%')"
   ]
  },
  {
   "cell_type": "markdown",
   "metadata": {},
   "source": [
    "#### With random search CV modeling, Random forest Regression yields an accuracy of 88%"
   ]
  },
  {
   "cell_type": "code",
   "execution_count": null,
   "metadata": {
    "ExecuteTime": {
     "end_time": "2019-03-28T16:00:52.346684Z",
     "start_time": "2019-03-28T16:00:51.921156Z"
    }
   },
   "outputs": [],
   "source": [
    "# append to accuracy summary table\n",
    "row_add=['Out 1 model','Randomsearch CV Forest Regression',randomcv_rtr_train_acc,randomcv_rtr_test_acc]\n",
    "np_array=acc_df.values\n",
    "np_array=np.vstack((np_array,row_add))\n",
    "acc_df=pd.DataFrame(np_array)\n",
    "acc_df"
   ]
  }
 ],
 "metadata": {
  "kernelspec": {
   "display_name": "Python 3",
   "language": "python",
   "name": "python3"
  },
  "language_info": {
   "codemirror_mode": {
    "name": "ipython",
    "version": 3
   },
   "file_extension": ".py",
   "mimetype": "text/x-python",
   "name": "python",
   "nbconvert_exporter": "python",
   "pygments_lexer": "ipython3",
   "version": "3.6.5"
  }
 },
 "nbformat": 4,
 "nbformat_minor": 2
}

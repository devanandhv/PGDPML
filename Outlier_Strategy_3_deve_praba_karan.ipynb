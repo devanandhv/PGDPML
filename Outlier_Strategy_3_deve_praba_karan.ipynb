{
 "cells": [
  {
   "cell_type": "code",
   "execution_count": 1,
   "metadata": {},
   "outputs": [],
   "source": [
    "import numpy as np\n",
    "import pandas as pd\n",
    "from pandas import Series, DataFrame"
   ]
  },
  {
   "cell_type": "code",
   "execution_count": 2,
   "metadata": {},
   "outputs": [],
   "source": [
    "missing = np.nan\n",
    "\n",
    "Missing_Values = [\"0\",\"missing\"]"
   ]
  },
  {
   "cell_type": "code",
   "execution_count": 3,
   "metadata": {},
   "outputs": [],
   "source": [
    "import seaborn as sns"
   ]
  },
  {
   "cell_type": "code",
   "execution_count": 4,
   "metadata": {},
   "outputs": [],
   "source": [
    "house_df_out3 = pd.read_csv(\"innercity.csv\", low_memory=False,keep_default_na = True, na_values = Missing_Values)"
   ]
  },
  {
   "cell_type": "code",
   "execution_count": 5,
   "metadata": {},
   "outputs": [
    {
     "data": {
      "text/html": [
       "<div>\n",
       "<style scoped>\n",
       "    .dataframe tbody tr th:only-of-type {\n",
       "        vertical-align: middle;\n",
       "    }\n",
       "\n",
       "    .dataframe tbody tr th {\n",
       "        vertical-align: top;\n",
       "    }\n",
       "\n",
       "    .dataframe thead th {\n",
       "        text-align: right;\n",
       "    }\n",
       "</style>\n",
       "<table border=\"1\" class=\"dataframe\">\n",
       "  <thead>\n",
       "    <tr style=\"text-align: right;\">\n",
       "      <th></th>\n",
       "      <th>cid</th>\n",
       "      <th>dayhours</th>\n",
       "      <th>price</th>\n",
       "      <th>room_bed</th>\n",
       "      <th>room_bath</th>\n",
       "      <th>living_measure</th>\n",
       "      <th>lot_measure</th>\n",
       "      <th>ceil</th>\n",
       "      <th>coast</th>\n",
       "      <th>sight</th>\n",
       "      <th>...</th>\n",
       "      <th>basement</th>\n",
       "      <th>yr_built</th>\n",
       "      <th>yr_renovated</th>\n",
       "      <th>zipcode</th>\n",
       "      <th>lat</th>\n",
       "      <th>long</th>\n",
       "      <th>living_measure15</th>\n",
       "      <th>lot_measure15</th>\n",
       "      <th>furnished</th>\n",
       "      <th>total_area</th>\n",
       "    </tr>\n",
       "  </thead>\n",
       "  <tbody>\n",
       "    <tr>\n",
       "      <th>0</th>\n",
       "      <td>3034200666</td>\n",
       "      <td>20141107T000000</td>\n",
       "      <td>808100</td>\n",
       "      <td>4.0</td>\n",
       "      <td>3.25</td>\n",
       "      <td>3020</td>\n",
       "      <td>13457</td>\n",
       "      <td>1.0</td>\n",
       "      <td>NaN</td>\n",
       "      <td>NaN</td>\n",
       "      <td>...</td>\n",
       "      <td>NaN</td>\n",
       "      <td>1956</td>\n",
       "      <td>NaN</td>\n",
       "      <td>98133</td>\n",
       "      <td>47.7174</td>\n",
       "      <td>-122.336</td>\n",
       "      <td>2120</td>\n",
       "      <td>7553</td>\n",
       "      <td>1.0</td>\n",
       "      <td>16477</td>\n",
       "    </tr>\n",
       "    <tr>\n",
       "      <th>1</th>\n",
       "      <td>8731981640</td>\n",
       "      <td>20141204T000000</td>\n",
       "      <td>277500</td>\n",
       "      <td>4.0</td>\n",
       "      <td>2.50</td>\n",
       "      <td>2550</td>\n",
       "      <td>7500</td>\n",
       "      <td>1.0</td>\n",
       "      <td>NaN</td>\n",
       "      <td>NaN</td>\n",
       "      <td>...</td>\n",
       "      <td>800.0</td>\n",
       "      <td>1976</td>\n",
       "      <td>NaN</td>\n",
       "      <td>98023</td>\n",
       "      <td>47.3165</td>\n",
       "      <td>-122.386</td>\n",
       "      <td>2260</td>\n",
       "      <td>8800</td>\n",
       "      <td>NaN</td>\n",
       "      <td>10050</td>\n",
       "    </tr>\n",
       "    <tr>\n",
       "      <th>2</th>\n",
       "      <td>5104530220</td>\n",
       "      <td>20150420T000000</td>\n",
       "      <td>404000</td>\n",
       "      <td>3.0</td>\n",
       "      <td>2.50</td>\n",
       "      <td>2370</td>\n",
       "      <td>4324</td>\n",
       "      <td>2.0</td>\n",
       "      <td>NaN</td>\n",
       "      <td>NaN</td>\n",
       "      <td>...</td>\n",
       "      <td>NaN</td>\n",
       "      <td>2006</td>\n",
       "      <td>NaN</td>\n",
       "      <td>98038</td>\n",
       "      <td>47.3515</td>\n",
       "      <td>-121.999</td>\n",
       "      <td>2370</td>\n",
       "      <td>4348</td>\n",
       "      <td>NaN</td>\n",
       "      <td>6694</td>\n",
       "    </tr>\n",
       "  </tbody>\n",
       "</table>\n",
       "<p>3 rows × 23 columns</p>\n",
       "</div>"
      ],
      "text/plain": [
       "          cid         dayhours   price  room_bed  room_bath  living_measure  \\\n",
       "0  3034200666  20141107T000000  808100       4.0       3.25            3020   \n",
       "1  8731981640  20141204T000000  277500       4.0       2.50            2550   \n",
       "2  5104530220  20150420T000000  404000       3.0       2.50            2370   \n",
       "\n",
       "   lot_measure  ceil  coast  sight     ...      basement  yr_built  \\\n",
       "0        13457   1.0    NaN    NaN     ...           NaN      1956   \n",
       "1         7500   1.0    NaN    NaN     ...         800.0      1976   \n",
       "2         4324   2.0    NaN    NaN     ...           NaN      2006   \n",
       "\n",
       "   yr_renovated  zipcode      lat     long  living_measure15  lot_measure15  \\\n",
       "0           NaN    98133  47.7174 -122.336              2120           7553   \n",
       "1           NaN    98023  47.3165 -122.386              2260           8800   \n",
       "2           NaN    98038  47.3515 -121.999              2370           4348   \n",
       "\n",
       "   furnished  total_area  \n",
       "0        1.0       16477  \n",
       "1        NaN       10050  \n",
       "2        NaN        6694  \n",
       "\n",
       "[3 rows x 23 columns]"
      ]
     },
     "execution_count": 5,
     "metadata": {},
     "output_type": "execute_result"
    }
   ],
   "source": [
    "house_df_out3.head(3)"
   ]
  },
  {
   "cell_type": "code",
   "execution_count": 6,
   "metadata": {},
   "outputs": [
    {
     "data": {
      "text/plain": [
       "cid                   int64\n",
       "dayhours             object\n",
       "price                 int64\n",
       "room_bed            float64\n",
       "room_bath           float64\n",
       "living_measure        int64\n",
       "lot_measure           int64\n",
       "ceil                float64\n",
       "coast               float64\n",
       "sight               float64\n",
       "condition             int64\n",
       "quality               int64\n",
       "ceil_measure          int64\n",
       "basement            float64\n",
       "yr_built              int64\n",
       "yr_renovated        float64\n",
       "zipcode               int64\n",
       "lat                 float64\n",
       "long                float64\n",
       "living_measure15      int64\n",
       "lot_measure15         int64\n",
       "furnished           float64\n",
       "total_area            int64\n",
       "dtype: object"
      ]
     },
     "execution_count": 6,
     "metadata": {},
     "output_type": "execute_result"
    }
   ],
   "source": [
    "house_df_out3.dtypes"
   ]
  },
  {
   "cell_type": "code",
   "execution_count": 7,
   "metadata": {},
   "outputs": [
    {
     "data": {
      "text/plain": [
       "cid                     0\n",
       "dayhours                0\n",
       "price                   0\n",
       "room_bed               13\n",
       "room_bath              10\n",
       "living_measure          0\n",
       "lot_measure             0\n",
       "ceil                    0\n",
       "coast               21450\n",
       "sight               19489\n",
       "condition               0\n",
       "quality                 0\n",
       "ceil_measure            0\n",
       "basement            13126\n",
       "yr_built                0\n",
       "yr_renovated        20699\n",
       "zipcode                 0\n",
       "lat                     0\n",
       "long                    0\n",
       "living_measure15        0\n",
       "lot_measure15           0\n",
       "furnished           17362\n",
       "total_area              0\n",
       "dtype: int64"
      ]
     },
     "execution_count": 7,
     "metadata": {},
     "output_type": "execute_result"
    }
   ],
   "source": [
    "house_df_out3.isnull().sum()"
   ]
  },
  {
   "cell_type": "code",
   "execution_count": 8,
   "metadata": {},
   "outputs": [
    {
     "data": {
      "text/html": [
       "<div>\n",
       "<style scoped>\n",
       "    .dataframe tbody tr th:only-of-type {\n",
       "        vertical-align: middle;\n",
       "    }\n",
       "\n",
       "    .dataframe tbody tr th {\n",
       "        vertical-align: top;\n",
       "    }\n",
       "\n",
       "    .dataframe thead th {\n",
       "        text-align: right;\n",
       "    }\n",
       "</style>\n",
       "<table border=\"1\" class=\"dataframe\">\n",
       "  <thead>\n",
       "    <tr style=\"text-align: right;\">\n",
       "      <th></th>\n",
       "      <th>cid</th>\n",
       "      <th>price</th>\n",
       "      <th>room_bed</th>\n",
       "      <th>room_bath</th>\n",
       "      <th>living_measure</th>\n",
       "      <th>lot_measure</th>\n",
       "      <th>ceil</th>\n",
       "      <th>coast</th>\n",
       "      <th>sight</th>\n",
       "      <th>condition</th>\n",
       "      <th>...</th>\n",
       "      <th>basement</th>\n",
       "      <th>yr_built</th>\n",
       "      <th>yr_renovated</th>\n",
       "      <th>zipcode</th>\n",
       "      <th>lat</th>\n",
       "      <th>long</th>\n",
       "      <th>living_measure15</th>\n",
       "      <th>lot_measure15</th>\n",
       "      <th>furnished</th>\n",
       "      <th>total_area</th>\n",
       "    </tr>\n",
       "  </thead>\n",
       "  <tbody>\n",
       "    <tr>\n",
       "      <th>count</th>\n",
       "      <td>2.161300e+04</td>\n",
       "      <td>2.161300e+04</td>\n",
       "      <td>21600.000000</td>\n",
       "      <td>21603.000000</td>\n",
       "      <td>21613.000000</td>\n",
       "      <td>2.161300e+04</td>\n",
       "      <td>21613.000000</td>\n",
       "      <td>163.0</td>\n",
       "      <td>2124.000000</td>\n",
       "      <td>21613.000000</td>\n",
       "      <td>...</td>\n",
       "      <td>8487.000000</td>\n",
       "      <td>21613.000000</td>\n",
       "      <td>914.000000</td>\n",
       "      <td>21613.000000</td>\n",
       "      <td>21613.000000</td>\n",
       "      <td>21613.000000</td>\n",
       "      <td>21613.000000</td>\n",
       "      <td>21613.000000</td>\n",
       "      <td>4251.0</td>\n",
       "      <td>2.161300e+04</td>\n",
       "    </tr>\n",
       "    <tr>\n",
       "      <th>mean</th>\n",
       "      <td>4.580302e+09</td>\n",
       "      <td>5.401822e+05</td>\n",
       "      <td>3.372870</td>\n",
       "      <td>2.115736</td>\n",
       "      <td>2079.899736</td>\n",
       "      <td>1.510697e+04</td>\n",
       "      <td>1.494309</td>\n",
       "      <td>1.0</td>\n",
       "      <td>2.384181</td>\n",
       "      <td>3.409430</td>\n",
       "      <td>...</td>\n",
       "      <td>742.357134</td>\n",
       "      <td>1971.005136</td>\n",
       "      <td>1995.827133</td>\n",
       "      <td>98077.939805</td>\n",
       "      <td>47.560053</td>\n",
       "      <td>-122.213896</td>\n",
       "      <td>1986.552492</td>\n",
       "      <td>12768.455652</td>\n",
       "      <td>1.0</td>\n",
       "      <td>1.718687e+04</td>\n",
       "    </tr>\n",
       "    <tr>\n",
       "      <th>std</th>\n",
       "      <td>2.876566e+09</td>\n",
       "      <td>3.673622e+05</td>\n",
       "      <td>0.926657</td>\n",
       "      <td>0.768996</td>\n",
       "      <td>918.440897</td>\n",
       "      <td>4.142051e+04</td>\n",
       "      <td>0.539989</td>\n",
       "      <td>0.0</td>\n",
       "      <td>0.921944</td>\n",
       "      <td>0.650743</td>\n",
       "      <td>...</td>\n",
       "      <td>405.111631</td>\n",
       "      <td>29.373411</td>\n",
       "      <td>15.517107</td>\n",
       "      <td>53.505026</td>\n",
       "      <td>0.138564</td>\n",
       "      <td>0.140828</td>\n",
       "      <td>685.391304</td>\n",
       "      <td>27304.179631</td>\n",
       "      <td>0.0</td>\n",
       "      <td>4.158908e+04</td>\n",
       "    </tr>\n",
       "    <tr>\n",
       "      <th>min</th>\n",
       "      <td>1.000102e+06</td>\n",
       "      <td>7.500000e+04</td>\n",
       "      <td>1.000000</td>\n",
       "      <td>0.500000</td>\n",
       "      <td>290.000000</td>\n",
       "      <td>5.200000e+02</td>\n",
       "      <td>1.000000</td>\n",
       "      <td>1.0</td>\n",
       "      <td>1.000000</td>\n",
       "      <td>1.000000</td>\n",
       "      <td>...</td>\n",
       "      <td>10.000000</td>\n",
       "      <td>1900.000000</td>\n",
       "      <td>1934.000000</td>\n",
       "      <td>98001.000000</td>\n",
       "      <td>47.155900</td>\n",
       "      <td>-122.519000</td>\n",
       "      <td>399.000000</td>\n",
       "      <td>651.000000</td>\n",
       "      <td>1.0</td>\n",
       "      <td>1.423000e+03</td>\n",
       "    </tr>\n",
       "    <tr>\n",
       "      <th>25%</th>\n",
       "      <td>2.123049e+09</td>\n",
       "      <td>3.219500e+05</td>\n",
       "      <td>3.000000</td>\n",
       "      <td>1.750000</td>\n",
       "      <td>1427.000000</td>\n",
       "      <td>5.040000e+03</td>\n",
       "      <td>1.000000</td>\n",
       "      <td>1.0</td>\n",
       "      <td>2.000000</td>\n",
       "      <td>3.000000</td>\n",
       "      <td>...</td>\n",
       "      <td>450.000000</td>\n",
       "      <td>1951.000000</td>\n",
       "      <td>1987.000000</td>\n",
       "      <td>98033.000000</td>\n",
       "      <td>47.471000</td>\n",
       "      <td>-122.328000</td>\n",
       "      <td>1490.000000</td>\n",
       "      <td>5100.000000</td>\n",
       "      <td>1.0</td>\n",
       "      <td>7.035000e+03</td>\n",
       "    </tr>\n",
       "    <tr>\n",
       "      <th>50%</th>\n",
       "      <td>3.904930e+09</td>\n",
       "      <td>4.500000e+05</td>\n",
       "      <td>3.000000</td>\n",
       "      <td>2.250000</td>\n",
       "      <td>1910.000000</td>\n",
       "      <td>7.618000e+03</td>\n",
       "      <td>1.500000</td>\n",
       "      <td>1.0</td>\n",
       "      <td>2.000000</td>\n",
       "      <td>3.000000</td>\n",
       "      <td>...</td>\n",
       "      <td>700.000000</td>\n",
       "      <td>1975.000000</td>\n",
       "      <td>2000.000000</td>\n",
       "      <td>98065.000000</td>\n",
       "      <td>47.571800</td>\n",
       "      <td>-122.230000</td>\n",
       "      <td>1840.000000</td>\n",
       "      <td>7620.000000</td>\n",
       "      <td>1.0</td>\n",
       "      <td>9.575000e+03</td>\n",
       "    </tr>\n",
       "    <tr>\n",
       "      <th>75%</th>\n",
       "      <td>7.308900e+09</td>\n",
       "      <td>6.450000e+05</td>\n",
       "      <td>4.000000</td>\n",
       "      <td>2.500000</td>\n",
       "      <td>2550.000000</td>\n",
       "      <td>1.068800e+04</td>\n",
       "      <td>2.000000</td>\n",
       "      <td>1.0</td>\n",
       "      <td>3.000000</td>\n",
       "      <td>4.000000</td>\n",
       "      <td>...</td>\n",
       "      <td>980.000000</td>\n",
       "      <td>1997.000000</td>\n",
       "      <td>2007.000000</td>\n",
       "      <td>98118.000000</td>\n",
       "      <td>47.678000</td>\n",
       "      <td>-122.125000</td>\n",
       "      <td>2360.000000</td>\n",
       "      <td>10083.000000</td>\n",
       "      <td>1.0</td>\n",
       "      <td>1.300000e+04</td>\n",
       "    </tr>\n",
       "    <tr>\n",
       "      <th>max</th>\n",
       "      <td>9.900000e+09</td>\n",
       "      <td>7.700000e+06</td>\n",
       "      <td>33.000000</td>\n",
       "      <td>8.000000</td>\n",
       "      <td>13540.000000</td>\n",
       "      <td>1.651359e+06</td>\n",
       "      <td>3.500000</td>\n",
       "      <td>1.0</td>\n",
       "      <td>4.000000</td>\n",
       "      <td>5.000000</td>\n",
       "      <td>...</td>\n",
       "      <td>4820.000000</td>\n",
       "      <td>2015.000000</td>\n",
       "      <td>2015.000000</td>\n",
       "      <td>98199.000000</td>\n",
       "      <td>47.777600</td>\n",
       "      <td>-121.315000</td>\n",
       "      <td>6210.000000</td>\n",
       "      <td>871200.000000</td>\n",
       "      <td>1.0</td>\n",
       "      <td>1.652659e+06</td>\n",
       "    </tr>\n",
       "  </tbody>\n",
       "</table>\n",
       "<p>8 rows × 22 columns</p>\n",
       "</div>"
      ],
      "text/plain": [
       "                cid         price      room_bed     room_bath  living_measure  \\\n",
       "count  2.161300e+04  2.161300e+04  21600.000000  21603.000000    21613.000000   \n",
       "mean   4.580302e+09  5.401822e+05      3.372870      2.115736     2079.899736   \n",
       "std    2.876566e+09  3.673622e+05      0.926657      0.768996      918.440897   \n",
       "min    1.000102e+06  7.500000e+04      1.000000      0.500000      290.000000   \n",
       "25%    2.123049e+09  3.219500e+05      3.000000      1.750000     1427.000000   \n",
       "50%    3.904930e+09  4.500000e+05      3.000000      2.250000     1910.000000   \n",
       "75%    7.308900e+09  6.450000e+05      4.000000      2.500000     2550.000000   \n",
       "max    9.900000e+09  7.700000e+06     33.000000      8.000000    13540.000000   \n",
       "\n",
       "        lot_measure          ceil  coast        sight     condition  \\\n",
       "count  2.161300e+04  21613.000000  163.0  2124.000000  21613.000000   \n",
       "mean   1.510697e+04      1.494309    1.0     2.384181      3.409430   \n",
       "std    4.142051e+04      0.539989    0.0     0.921944      0.650743   \n",
       "min    5.200000e+02      1.000000    1.0     1.000000      1.000000   \n",
       "25%    5.040000e+03      1.000000    1.0     2.000000      3.000000   \n",
       "50%    7.618000e+03      1.500000    1.0     2.000000      3.000000   \n",
       "75%    1.068800e+04      2.000000    1.0     3.000000      4.000000   \n",
       "max    1.651359e+06      3.500000    1.0     4.000000      5.000000   \n",
       "\n",
       "           ...          basement      yr_built  yr_renovated       zipcode  \\\n",
       "count      ...       8487.000000  21613.000000    914.000000  21613.000000   \n",
       "mean       ...        742.357134   1971.005136   1995.827133  98077.939805   \n",
       "std        ...        405.111631     29.373411     15.517107     53.505026   \n",
       "min        ...         10.000000   1900.000000   1934.000000  98001.000000   \n",
       "25%        ...        450.000000   1951.000000   1987.000000  98033.000000   \n",
       "50%        ...        700.000000   1975.000000   2000.000000  98065.000000   \n",
       "75%        ...        980.000000   1997.000000   2007.000000  98118.000000   \n",
       "max        ...       4820.000000   2015.000000   2015.000000  98199.000000   \n",
       "\n",
       "                lat          long  living_measure15  lot_measure15  furnished  \\\n",
       "count  21613.000000  21613.000000      21613.000000   21613.000000     4251.0   \n",
       "mean      47.560053   -122.213896       1986.552492   12768.455652        1.0   \n",
       "std        0.138564      0.140828        685.391304   27304.179631        0.0   \n",
       "min       47.155900   -122.519000        399.000000     651.000000        1.0   \n",
       "25%       47.471000   -122.328000       1490.000000    5100.000000        1.0   \n",
       "50%       47.571800   -122.230000       1840.000000    7620.000000        1.0   \n",
       "75%       47.678000   -122.125000       2360.000000   10083.000000        1.0   \n",
       "max       47.777600   -121.315000       6210.000000  871200.000000        1.0   \n",
       "\n",
       "         total_area  \n",
       "count  2.161300e+04  \n",
       "mean   1.718687e+04  \n",
       "std    4.158908e+04  \n",
       "min    1.423000e+03  \n",
       "25%    7.035000e+03  \n",
       "50%    9.575000e+03  \n",
       "75%    1.300000e+04  \n",
       "max    1.652659e+06  \n",
       "\n",
       "[8 rows x 22 columns]"
      ]
     },
     "execution_count": 8,
     "metadata": {},
     "output_type": "execute_result"
    }
   ],
   "source": [
    "house_df_out3.describe()"
   ]
  },
  {
   "cell_type": "code",
   "execution_count": 9,
   "metadata": {},
   "outputs": [
    {
     "data": {
      "text/plain": [
       "cid                     0\n",
       "dayhours                0\n",
       "price                   0\n",
       "room_bed               13\n",
       "room_bath              10\n",
       "living_measure          0\n",
       "lot_measure             0\n",
       "ceil                    0\n",
       "coast               21450\n",
       "sight               19489\n",
       "condition               0\n",
       "quality                 0\n",
       "ceil_measure            0\n",
       "basement            13126\n",
       "yr_built                0\n",
       "yr_renovated        20699\n",
       "zipcode                 0\n",
       "lat                     0\n",
       "long                    0\n",
       "living_measure15        0\n",
       "lot_measure15           0\n",
       "furnished           17362\n",
       "total_area              0\n",
       "dtype: int64"
      ]
     },
     "execution_count": 9,
     "metadata": {},
     "output_type": "execute_result"
    }
   ],
   "source": [
    "house_df_out3.isnull().sum()"
   ]
  },
  {
   "cell_type": "code",
   "execution_count": 10,
   "metadata": {
    "scrolled": true
   },
   "outputs": [
    {
     "data": {
      "text/plain": [
       "<matplotlib.axes._subplots.AxesSubplot at 0x20d7d0129b0>"
      ]
     },
     "execution_count": 10,
     "metadata": {},
     "output_type": "execute_result"
    },
    {
     "data": {
      "image/png": "[encoded data removed]",
      "text/plain": [
       "<Figure size 432x288 with 1 Axes>"
      ]
     },
     "metadata": {},
     "output_type": "display_data"
    }
   ],
   "source": [
    "sns.boxplot(x=house_df_out3['room_bed'])"
   ]
  },
  {
   "cell_type": "code",
   "execution_count": 11,
   "metadata": {},
   "outputs": [],
   "source": [
    "q3 = house_df_out3[['room_bed']].quantile(0.75).room_bed\n",
    "q1 = house_df_out3[['room_bed']].quantile(0.25).room_bed\n",
    "t = q3-q1\n",
    "outliers_above = q3+t\n",
    "outliers_below = q1-t"
   ]
  },
  {
   "cell_type": "code",
   "execution_count": 12,
   "metadata": {},
   "outputs": [
    {
     "data": {
      "text/plain": [
       "2.0"
      ]
     },
     "execution_count": 12,
     "metadata": {},
     "output_type": "execute_result"
    }
   ],
   "source": [
    "outliers_below"
   ]
  },
  {
   "cell_type": "code",
   "execution_count": 13,
   "metadata": {},
   "outputs": [
    {
     "data": {
      "text/plain": [
       "5.0"
      ]
     },
     "execution_count": 13,
     "metadata": {},
     "output_type": "execute_result"
    }
   ],
   "source": [
    "outliers_above"
   ]
  },
  {
   "cell_type": "code",
   "execution_count": 15,
   "metadata": {},
   "outputs": [
    {
     "data": {
      "text/plain": [
       "199"
      ]
     },
     "execution_count": 15,
     "metadata": {},
     "output_type": "execute_result"
    }
   ],
   "source": [
    "house_df_out3.loc[house_df_out3.room_bed<2].count().room_bed"
   ]
  },
  {
   "cell_type": "code",
   "execution_count": 17,
   "metadata": {},
   "outputs": [
    {
     "data": {
      "text/plain": [
       "334"
      ]
     },
     "execution_count": 17,
     "metadata": {},
     "output_type": "execute_result"
    }
   ],
   "source": [
    "house_df_out3.loc[house_df_out3.room_bed>5].count().room_bed"
   ]
  },
  {
   "cell_type": "code",
   "execution_count": 19,
   "metadata": {},
   "outputs": [],
   "source": [
    "house_df_out3.loc[house_df_out3.room_bed>5, 'room_bed'] = 5\n",
    "house_df_out3.loc[house_df_out3.room_bed<2, 'room_bed'] = 2"
   ]
  },
  {
   "cell_type": "code",
   "execution_count": 20,
   "metadata": {},
   "outputs": [
    {
     "data": {
      "text/plain": [
       "<matplotlib.axes._subplots.AxesSubplot at 0x20d7d9e0fd0>"
      ]
     },
     "execution_count": 20,
     "metadata": {},
     "output_type": "execute_result"
    },
    {
     "data": {
      "image/png": "[encoded data removed]",
      "text/plain": [
       "<Figure size 432x288 with 1 Axes>"
      ]
     },
     "metadata": {},
     "output_type": "display_data"
    }
   ],
   "source": [
    "sns.boxplot(x=house_df_out3['room_bed'])"
   ]
  },
  {
   "cell_type": "code",
   "execution_count": null,
   "metadata": {},
   "outputs": [],
   "source": [
    "q3 = house_df_out3[['room_bath']].quantile(0.75).room_bath\n",
    "q1 = house_df_out3[['room_bath']].quantile(0.25).room_bath\n",
    "t = q3-q1\n",
    "outliers_above = q3+t\n",
    "outliers_below = q1-t\n",
    "\n",
    "df.loc[house_df_out3.room_bath>outliers_above, 'room_bath'] = outliers_above\n",
    "df.loc[house_df_out3.room_bath<outliers_below, 'room_bath'] = outliers_below"
   ]
  },
  {
   "cell_type": "code",
   "execution_count": 26,
   "metadata": {},
   "outputs": [
    {
     "data": {
      "text/plain": [
       "<matplotlib.axes._subplots.AxesSubplot at 0x289b89c3c18>"
      ]
     },
     "execution_count": 26,
     "metadata": {},
     "output_type": "execute_result"
    },
    {
     "data": {
      "image/png": "[encoded data removed]",
      "text/plain": [
       "<Figure size 432x288 with 1 Axes>"
      ]
     },
     "metadata": {},
     "output_type": "display_data"
    }
   ],
   "source": [
    "sns.boxplot(x=house_df_out3['room_bath'])"
   ]
  },
  {
   "cell_type": "code",
   "execution_count": 27,
   "metadata": {},
   "outputs": [],
   "source": [
    "q3 = house_df_out3[['living_measure']].quantile(0.75).living_measure\n",
    "q1 = house_df_out3[['living_measure']].quantile(0.25).living_measure\n",
    "t = q3-q1\n",
    "outliers_above = q3+t\n",
    "outliers_below = q1-t\n",
    "\n",
    "house_df_out3.loc[house_df_out3.living_measure>outliers_above, 'living_measure'] = outliers_above\n",
    "house_df_out3.loc[house_df_out3.living_measure<outliers_below, 'living_measure'] = outliers_below\n",
    "\n",
    "q3 = house_df_out3[['lot_measure']].quantile(0.75).lot_measure\n",
    "q1 = house_df_out3[['lot_measure']].quantile(0.25).lot_measure\n",
    "t = q3-q1\n",
    "outliers_above = q3+t\n",
    "outliers_below = q1-t\n",
    "\n",
    "house_df_out3.loc[house_df_out3.lot_measure>outliers_above, 'lot_measure'] = outliers_above\n",
    "house_df_out3.loc[house_df_out3.lot_measure<outliers_below, 'lot_measure'] = outliers_below\n",
    "\n",
    "q3 = house_df_out3[['ceil']].quantile(0.75).ceil\n",
    "q1 = house_df_out3[['ceil']].quantile(0.25).ceil\n",
    "t = q3-q1\n",
    "outliers_above = q3+t\n",
    "outliers_below = q1-t\n",
    "\n",
    "house_df_out3.loc[house_df_out3.ceil>outliers_above, 'ceil'] = outliers_above\n",
    "house_df_out3.loc[house_df_out3.ceil<outliers_below, 'ceil'] = outliers_below\n",
    "\n",
    "q3 = house_df_out3[['condition']].quantile(0.75).condition\n",
    "q1 = house_df_out3[['condition']].quantile(0.25).condition\n",
    "t = q3-q1\n",
    "outliers_above = q3+t\n",
    "outliers_below = q1-t\n",
    "\n",
    "house_df_out3.loc[house_df_out3.condition>outliers_above, 'condition'] = outliers_above\n",
    "house_df_out3.loc[house_df_out3.condition<outliers_below, 'condition'] = outliers_below\n",
    "\n",
    "q3 = house_df_out3[['quality']].quantile(0.75).quality\n",
    "q1 = house_df_out3[['quality']].quantile(0.25).quality\n",
    "t = q3-q1\n",
    "outliers_above = q3+t\n",
    "outliers_below = q1-t\n",
    "\n",
    "house_df_out3.loc[house_df_out3.quality>outliers_above, 'quality'] = outliers_above\n",
    "house_df_out3.loc[house_df_out3.quality<outliers_below, 'quality'] = outliers_below\n",
    "\n",
    "q3 = house_df_out3[['ceil_measure']].quantile(0.75).ceil_measure\n",
    "q1 = house_df_out3[['ceil_measure']].quantile(0.25).ceil_measure\n",
    "t = q3-q1\n",
    "outliers_above = q3+t\n",
    "outliers_below = q1-t\n",
    "\n",
    "house_df_out3.loc[house_df_out3.ceil_measure>outliers_above, 'ceil_measure'] = outliers_above\n",
    "house_df_out3.loc[house_df_out3.ceil_measure<outliers_below, 'ceil_measure'] = outliers_below\n",
    "\n",
    "q3 = house_df_out3[['furnished']].quantile(0.75).furnished\n",
    "q1 = house_df_out3[['furnished']].quantile(0.25).furnished\n",
    "t = q3-q1\n",
    "outliers_above = q3+t\n",
    "outliers_below = q1-t\n",
    "\n",
    "house_df_out3.loc[house_df_out3.furnished>outliers_above, 'furnished'] = outliers_above\n",
    "house_df_out3.loc[house_df_out3.furnished<outliers_below, 'furnished'] = outliers_below\n",
    "\n",
    "q3 = house_df_out3[['total_area']].quantile(0.75).total_area\n",
    "q1 = house_df_out3[['total_area']].quantile(0.25).total_area\n",
    "t = q3-q1\n",
    "outliers_above = q3+t\n",
    "outliers_below = q1-t\n",
    "\n",
    "house_df_out3.loc[house_df_out3.total_area>outliers_above, 'total_area'] = outliers_above\n",
    "house_df_out3.loc[house_df_out3.total_area<outliers_below, 'total_area'] = outliers_below"
   ]
  },
  {
   "cell_type": "code",
   "execution_count": null,
   "metadata": {},
   "outputs": [],
   "source": []
  }
 ],
 "metadata": {
  "kernelspec": {
   "display_name": "Python 3",
   "language": "python",
   "name": "python3"
  },
  "language_info": {
   "codemirror_mode": {
    "name": "ipython",
    "version": 3
   },
   "file_extension": ".py",
   "mimetype": "text/x-python",
   "name": "python",
   "nbconvert_exporter": "python",
   "pygments_lexer": "ipython3",
   "version": "3.6.5"
  }
 },
 "nbformat": 4,
 "nbformat_minor": 2
}
